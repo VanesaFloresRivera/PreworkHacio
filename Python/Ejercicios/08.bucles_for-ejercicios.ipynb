{
 "cells": [
  {
   "cell_type": "markdown",
   "metadata": {},
   "source": [
    "<div style=\"text-align: center;\">\n",
    "  <img src=\"https://github.com/Hack-io-Data/Imagenes/blob/main/01-LogosHackio/logo_celeste@4x.png?raw=true\" alt=\"logo hack(io)\" />\n",
    "</div>"
   ]
  },
  {
   "cell_type": "markdown",
   "metadata": {},
   "source": [
    "####  1. Genera una lista de números del 0 al 4 y luego imprime cada número en la lista usando un `bucle for`. "
   ]
  },
  {
   "cell_type": "code",
   "execution_count": 97,
   "metadata": {},
   "outputs": [
    {
     "name": "stdout",
     "output_type": "stream",
     "text": [
      "0\n",
      "1\n",
      "2\n",
      "3\n",
      "4\n"
     ]
    }
   ],
   "source": [
    "lista_numeros = [ 0, 1, 2, 3, 4]\n",
    "\n",
    "for numero in lista_numeros:\n",
    "    print(numero)"
   ]
  },
  {
   "cell_type": "markdown",
   "metadata": {},
   "source": [
    "#### 2. Itera sobre una lista de frutas y muestra cada fruta en mayúsculas. \n"
   ]
  },
  {
   "cell_type": "code",
   "execution_count": 98,
   "metadata": {},
   "outputs": [
    {
     "name": "stdout",
     "output_type": "stream",
     "text": [
      "MANZANA\n",
      "PERA\n",
      "PLATANO\n",
      "NARANJA\n"
     ]
    }
   ],
   "source": [
    "frutas = ['manzana', 'pera', 'platano', 'naranja' ]\n",
    "\n",
    "for fruta in frutas:\n",
    "        print(fruta.upper()) "
   ]
  },
  {
   "cell_type": "markdown",
   "metadata": {},
   "source": [
    "####  3. Genera un bucle while que imprima los números del 0 al 4. \n"
   ]
  },
  {
   "cell_type": "code",
   "execution_count": 99,
   "metadata": {},
   "outputs": [
    {
     "name": "stdout",
     "output_type": "stream",
     "text": [
      "0\n",
      "1\n",
      "2\n",
      "3\n",
      "4\n"
     ]
    }
   ],
   "source": [
    "numero = 0\n",
    "\n",
    "while numero < 5:\n",
    "    print(numero)\n",
    "    numero +=1"
   ]
  },
  {
   "cell_type": "markdown",
   "metadata": {},
   "source": [
    "#### 4. Genera un bucle del 0 al 9, pero que se detenga en el 5.\n"
   ]
  },
  {
   "cell_type": "code",
   "execution_count": 100,
   "metadata": {},
   "outputs": [
    {
     "name": "stdout",
     "output_type": "stream",
     "text": [
      "0\n",
      "1\n",
      "2\n",
      "3\n",
      "4\n",
      "5\n"
     ]
    }
   ],
   "source": [
    "numero2 = 0\n",
    "\n",
    "while numero2 < 10:\n",
    "     \n",
    "    if numero2 <6:\n",
    "        print(numero2)\n",
    "    numero2 +=1"
   ]
  },
  {
   "cell_type": "markdown",
   "metadata": {},
   "source": [
    "#### 5. Recorre los números del 0 al 9 e imprime solo los números impares."
   ]
  },
  {
   "cell_type": "code",
   "execution_count": 101,
   "metadata": {},
   "outputs": [
    {
     "name": "stdout",
     "output_type": "stream",
     "text": [
      "1\n",
      "3\n",
      "5\n",
      "7\n",
      "9\n"
     ]
    }
   ],
   "source": [
    "# Opción 1, con while\n",
    "numero1 = 0\n",
    "\n",
    "while numero1 < 10:\n",
    "        if numero1 % 2 != 0:\n",
    "          print(numero1)\n",
    "        numero1 +=1"
   ]
  },
  {
   "cell_type": "code",
   "execution_count": 102,
   "metadata": {},
   "outputs": [
    {
     "name": "stdout",
     "output_type": "stream",
     "text": [
      "1\n",
      "3\n",
      "5\n",
      "7\n",
      "9\n"
     ]
    }
   ],
   "source": [
    "# Opcion 2, con for y range\n",
    "for num in range(0,10, 2):\n",
    "      print(num+1)"
   ]
  },
  {
   "cell_type": "markdown",
   "metadata": {},
   "source": [
    "#### 6. Dada la lista `[10, 20, 30, 40, 50]`, calcula la suma de todos los elementos usando un bucle `for`."
   ]
  },
  {
   "cell_type": "code",
   "execution_count": 103,
   "metadata": {},
   "outputs": [
    {
     "name": "stdout",
     "output_type": "stream",
     "text": [
      "La suma total de todos los elementos es 150\n"
     ]
    }
   ],
   "source": [
    "lista_numeros2= [10, 20, 30, 40, 50]\n",
    "suma_total = 0\n",
    "\n",
    "for suma in lista_numeros2:\n",
    "    suma_total += suma\n",
    "print('La suma total de todos los elementos es', suma_total)"
   ]
  },
  {
   "cell_type": "markdown",
   "metadata": {},
   "source": [
    "#### 7. Dada la cadena `\"Hola mundo\"`, cuenta cuántas veces aparecen las vocales (`a`, `e`, `i`, `o`, `u`) usando un bucle `for`.\n"
   ]
  },
  {
   "cell_type": "code",
   "execution_count": 104,
   "metadata": {},
   "outputs": [
    {
     "name": "stdout",
     "output_type": "stream",
     "text": [
      "La frase 'Hola Mundo' tiene 4 vocales\n"
     ]
    }
   ],
   "source": [
    "#### Opción 1\n",
    "saludo = \"Hola mundo\"\n",
    "vocales = 0\n",
    "\n",
    "for letra in saludo:\n",
    "    if letra == \"a\" or letra == \"e\" or letra == \"i\" or letra == \"o\" or letra == \"u\":\n",
    "        vocales += 1\n",
    "    else:\n",
    "        vocales +=0\n",
    "print(\"La frase 'Hola Mundo' tiene\" , vocales, \"vocales\")"
   ]
  },
  {
   "cell_type": "code",
   "execution_count": 105,
   "metadata": {},
   "outputs": [
    {
     "name": "stdout",
     "output_type": "stream",
     "text": [
      "La vocal a aparece 1 veces en la frase 'Hola mundo'\n",
      "La vocal e aparece 0 veces en la frase 'Hola mundo'\n",
      "La vocal i aparece 0 veces en la frase 'Hola mundo'\n",
      "La vocal o aparece 2 veces en la frase 'Hola mundo'\n",
      "La vocal u aparece 1 veces en la frase 'Hola mundo'\n"
     ]
    }
   ],
   "source": [
    "#### Opción 2\n",
    "saludo = \"Hola mundo\"\n",
    "vocal_a = 0\n",
    "vocal_e = 0\n",
    "vocal_i = 0\n",
    "vocal_o = 0\n",
    "vocal_u = 0\n",
    "\n",
    "for letra in saludo:\n",
    "    if letra == \"a\":\n",
    "        vocal_a +=1\n",
    "    elif letra == \"e\":\n",
    "        vocal_e +=1\n",
    "    elif letra == \"i\":\n",
    "        vocal_i +=1\n",
    "    elif letra == \"o\":\n",
    "        vocal_o +=1\n",
    "    elif letra == \"u\":\n",
    "        vocal_u +=1\n",
    "print(\"La vocal a aparece\", vocal_a, \"veces en la frase 'Hola mundo'\")\n",
    "print(\"La vocal e aparece\", vocal_e, \"veces en la frase 'Hola mundo'\")\n",
    "print(\"La vocal i aparece\", vocal_i, \"veces en la frase 'Hola mundo'\")\n",
    "print(\"La vocal o aparece\", vocal_o, \"veces en la frase 'Hola mundo'\")\n",
    "print(\"La vocal u aparece\", vocal_u, \"veces en la frase 'Hola mundo'\")"
   ]
  },
  {
   "cell_type": "markdown",
   "metadata": {},
   "source": [
    "#### 8. Dada la cadena `\"Python\"`, usa un bucle `for` para imprimir los caracteres en orden inverso (`n`, `o`, `h`, `t`, `y`, `P`).\n"
   ]
  },
  {
   "cell_type": "code",
   "execution_count": 106,
   "metadata": {},
   "outputs": [
    {
     "name": "stdout",
     "output_type": "stream",
     "text": [
      "n\n",
      "o\n",
      "h\n",
      "t\n",
      "y\n",
      "P\n"
     ]
    }
   ],
   "source": [
    "palabra = \"Python\"\n",
    "#print(len(palabra))\n",
    "\n",
    "for i in range(1, len(palabra)+1):\n",
    "    print(palabra[-i])\n"
   ]
  },
  {
   "cell_type": "markdown",
   "metadata": {},
   "source": [
    "#### 9. Dada la lista `[1, 2, 3, 4, 5]`, multiplica todos sus elementos usando un bucle `for` y almacena los resultados en una lista nueva. \n"
   ]
  },
  {
   "cell_type": "code",
   "execution_count": 14,
   "metadata": {},
   "outputs": [
    {
     "name": "stdout",
     "output_type": "stream",
     "text": [
      "La lista de la multiplicación de los elementos es [1, 2, 6, 24, 120]\n"
     ]
    }
   ],
   "source": [
    "lista = [1, 2, 3, 4, 5]\n",
    "multiplicacion = 1\n",
    "lista_multiplicacion = []\n",
    "lista\n",
    "\n",
    "for i in lista:\n",
    "    multiplicacion *= i\n",
    "    lista_multiplicacion.append(multiplicacion)\n",
    "print(f'La lista de la multiplicación de los elementos es {lista_multiplicacion}')\n",
    "\n"
   ]
  },
  {
   "cell_type": "markdown",
   "metadata": {},
   "source": [
    "#### 10. Dada la lista `[1, 2, 3, 4, 5, 6, 7, 8, 9, 10]`, utiliza un bucle `for` para contar cuántos números son pares y cuántos son impares."
   ]
  },
  {
   "cell_type": "code",
   "execution_count": 152,
   "metadata": {},
   "outputs": [
    {
     "name": "stdout",
     "output_type": "stream",
     "text": [
      "La lista contiene  5 numeros pares\n",
      "La lista contiene 5 numeros impares\n"
     ]
    }
   ],
   "source": [
    "lista_par_impar = [1, 2, 3, 4, 5, 6, 7, 8, 9, 10]\n",
    "\n",
    "numeros_par = 0\n",
    "numeros_impar = 0\n",
    "\n",
    "for i in lista_par_impar:\n",
    "    if i % 2 == 0:\n",
    "        numeros_par += 1\n",
    "    else:\n",
    "        numeros_impar +=1\n",
    "print(\"La lista contiene \", numeros_par, \"numeros pares\")\n",
    "print(\"La lista contiene\", numeros_impar, \"numeros impares\")\n"
   ]
  },
  {
   "cell_type": "markdown",
   "metadata": {},
   "source": [
    "#### 11. Escribe un programa que solicite al usuario un número entero positivo (`n`) y calcule la suma de todos los números primos menores o iguales a `n`. Utiliza un bucle `for` para iterar sobre cada número y verifica si es primo."
   ]
  },
  {
   "cell_type": "code",
   "execution_count": 27,
   "metadata": {},
   "outputs": [
    {
     "name": "stdout",
     "output_type": "stream",
     "text": [
      "La lista de números primos es  [2, 3, 5, 7, 11, 13, 17, 19, 23, 29, 31, 37, 41, 43, 47, 53, 59]\n",
      "La suma total de numeros primos es 440\n"
     ]
    }
   ],
   "source": [
    "n_primo1 = int(input(\"¿Hasta qué número quieres sumar los números primos\"))\n",
    "suma_num_primos = 0\n",
    "Lista_num_primos = []\n",
    "\n",
    "for i in range (2, n_primo1 + 1):\n",
    "    primos1 = True\n",
    "    for j in range (2,i-1):\n",
    "        if i % j == 0:\n",
    "            primos1 = False\n",
    "    if primos1 == True:\n",
    "        Lista_num_primos.append(i)\n",
    "        suma_num_primos += i\n",
    "\n",
    "print(\"La lista de números primos es \", Lista_num_primos)\n",
    "print(\"La suma total de numeros primos es\", suma_num_primos)"
   ]
  },
  {
   "cell_type": "markdown",
   "metadata": {},
   "source": [
    "#### 12. Escribe un programa que solicite al usuario un número entero positivo (`n`) y luego imprima un patrón de asteriscos como el siguiente ejemplo para `n = 5`:\n",
    "```\n",
    "*\n",
    "**\n",
    "***\n",
    "****\n",
    "*****\n",
    "```\n",
    "Utiliza un bucle `for` anidado para controlar la cantidad de asteriscos en cada línea."
   ]
  },
  {
   "cell_type": "code",
   "execution_count": 109,
   "metadata": {},
   "outputs": [
    {
     "name": "stdout",
     "output_type": "stream",
     "text": [
      "\n",
      "*\n",
      "**\n",
      "***\n",
      "****\n",
      "*****\n",
      "******\n",
      "*******\n",
      "********\n",
      "*********\n",
      "**********\n"
     ]
    }
   ],
   "source": [
    "n = int(input(\"Introduzca número entero positivo\"))\n",
    "for i in range(n+1):\n",
    "    print(i*'*')"
   ]
  },
  {
   "cell_type": "markdown",
   "metadata": {},
   "source": [
    "#### 13. Dado un texto, utiliza un bucle `for` para contar cuántas veces aparece cada palabra en el texto. Ignora mayúsculas/minúsculas y los signos de puntuación."
   ]
  },
  {
   "cell_type": "code",
   "execution_count": 49,
   "metadata": {},
   "outputs": [
    {
     "name": "stdout",
     "output_type": "stream",
     "text": [
      "['hola', 'me', 'llamo', 'hola']\n",
      "la palabra hola aparece 2 veces\n",
      "la palabra me aparece 1 veces\n",
      "la palabra llamo aparece 1 veces\n"
     ]
    }
   ],
   "source": [
    "texto = input(\"Ingrese el texto que desee\")\n",
    "texto_minus = texto.lower()\n",
    "texto_lista = texto_minus.split()\n",
    "texto_lista_unico = []\n",
    "\n",
    "print(texto_minus.split())\n",
    "\n",
    "for i in texto_lista:\n",
    "    if i not in texto_lista_unico:\n",
    "        texto_lista_unico.append(i)\n",
    "        print(\"la palabra\", i, \"aparece\", texto_lista.count(i), \"veces\")\n"
   ]
  },
  {
   "cell_type": "markdown",
   "metadata": {},
   "source": [
    "#### 14. Escribe un programa que solicite al usuario dos números enteros positivos (`inicio` y `fin`, donde `inicio <= fin`) y luego calcule la suma de los números pares y la suma de los números impares en ese rango. Utiliza un bucle `for` para iterar sobre cada número y una estructura `if-else` para clasificar y sumar los números pares e impares."
   ]
  },
  {
   "cell_type": "code",
   "execution_count": 111,
   "metadata": {},
   "outputs": [],
   "source": [
    "num_inicio = int(input(\"Introduzca el número INICIAL. Debe ser un número entero y positivo\"))\n",
    "num_fin = int(input(\"Introduzca el número FINAL. Debe ser un número entero y positivo\"))\n",
    "\n",
    "lista_rango1 = list(range(num_inicio, num_fin))\n",
    "\n",
    "suma_par = 0\n",
    "suma_impar = 0\n",
    "\n",
    "for numero in lista_rango1:\n",
    "    if numero % 2 ==0:\n",
    "        suma_par += numero\n",
    "    else:\n",
    "        suma_impar += numero\n",
    "print(\"La suma de los números pares es\", suma_par)\n",
    "print(\"La suma de los números impares es\", suma_impar)"
   ]
  },
  {
   "cell_type": "markdown",
   "metadata": {},
   "source": [
    "#### 15. Escribe un programa que solicite al usuario un número entero positivo (`n`) y luego identifique todos los números primos menores o iguales a `n`. Para cada número, imprime si es primo o no usando un bucle `for` y una estructura `if-else` para verificar la condición de primalidad."
   ]
  },
  {
   "cell_type": "code",
   "execution_count": 41,
   "metadata": {},
   "outputs": [
    {
     "name": "stdout",
     "output_type": "stream",
     "text": [
      "Los numeros primos son [2, 3, 5, 7, 11, 13, 17, 19, 23, 29, 31, 37, 41, 43, 47]\n",
      "Los numeros NO primos son [4, 6, 8, 9, 10, 12, 14, 15, 16, 18, 20, 21, 22, 24, 25, 26, 27, 28, 30, 32, 33, 34, 35, 36, 38, 39, 40, 42, 44, 45, 46, 48, 49, 50]\n"
     ]
    }
   ],
   "source": [
    "n_primo = int(input(\"¿Hasta qué número quieres conocer los números primos?\"))\n",
    "\n",
    "num_primos = []\n",
    "num_no_primos = []\n",
    "\n",
    "for i in range (2, n_primo + 1):\n",
    "    primos = True\n",
    "    for j in range (2,i-1):\n",
    "        if i % j == 0 and  i not in num_no_primos:\n",
    "            primos = False\n",
    "            num_no_primos.append(i)\n",
    "    if primos == True and primos not in num_primos:\n",
    "        num_primos.append(i)\n",
    "\n",
    "print(\"Los numeros primos son\", num_primos)\n",
    "print('Los numeros NO primos son', num_no_primos)\n",
    "\n",
    "\n",
    "        "
   ]
  },
  {
   "cell_type": "markdown",
   "metadata": {},
   "source": [
    "#### 16.Dada una lista de precios `[100, 200, 300, 400, 500]`, aplica un descuento del 10% a todos los precios mayores a `250`. Imprime la lista actualizada de precios después de aplicar el descuento utilizando un bucle `for`. "
   ]
  },
  {
   "cell_type": "code",
   "execution_count": 31,
   "metadata": {},
   "outputs": [
    {
     "name": "stdout",
     "output_type": "stream",
     "text": [
      "la lista de precios con descuentos es  [100, 200, 270.0, 360.0, 450.0]\n"
     ]
    }
   ],
   "source": [
    "lista_precios = [100, 200, 300, 400, 500]\n",
    "\n",
    "lista_precios_desc = [i*0.9 if i > 250 else i for i in lista_precios]\n",
    "print(\"la lista de precios con descuentos es \", lista_precios_desc)"
   ]
  },
  {
   "cell_type": "markdown",
   "metadata": {},
   "source": [
    "#### 17. Dada una lista de calificaciones de estudiantes `[85, 92, 78, 90, 88]`, clasifica a cada estudiante como \"Aprobado\" si la calificación es mayor o igual a `80` y como \"Reprobado\" si es menor a `80`. Imprime el nombre de cada estudiante junto con su estado utilizando un bucle `for` y una estructura `if-else`.\n"
   ]
  },
  {
   "cell_type": "code",
   "execution_count": 54,
   "metadata": {},
   "outputs": [
    {
     "name": "stdout",
     "output_type": "stream",
     "text": [
      "Maria -----> Aprobado\n",
      "Luis -----> Aprobado\n",
      "Pedro -----> Reprobado\n",
      "Pepe -----> Aprobado\n",
      "Nuria -----> Aprobado\n"
     ]
    }
   ],
   "source": [
    "calificaciones = [85, 92, 78, 90, 88]\n",
    "estado_nota = [\"Aprobado\" if i >= 80 else \"Reprobado\" for i in calificaciones]\n",
    "#print(estado_nota)\n",
    "nombres = ['Maria', 'Luis', 'Pedro', 'Pepe', 'Nuria']\n",
    "\n",
    "lista_final = list(zip(nombres, estado_nota))\n",
    "\n",
    "for nombre, estado in lista_final:\n",
    "    print(nombre, \"----->\", estado)\n",
    "\n",
    "\n",
    "\n",
    "        "
   ]
  },
  {
   "cell_type": "markdown",
   "metadata": {},
   "source": [
    "\n",
    "#### 18. Escribe un programa que solicite al usuario dos números enteros positivos (`inicio`, `fin`) y otro número entero positivo (`divisor`). Encuentra el número más grande en el rango desde `inicio` hasta `fin` que sea divisible por `divisor`. Utiliza un bucle `for` y una estructura `if-else` para verificar y mantener el registro del número más grande divisible por el divisor dado.\n"
   ]
  },
  {
   "cell_type": "code",
   "execution_count": 69,
   "metadata": {},
   "outputs": [
    {
     "name": "stdout",
     "output_type": "stream",
     "text": [
      "El número máximo divisible para el divisor indicado dentro de este rango es 99\n"
     ]
    }
   ],
   "source": [
    "inicio = int(input(\"Indique un numero inicial, debe ser entero y positivo\"))\n",
    "fin = int(input(\"Indique un numero fin, debe ser entero y positivo\"))\n",
    "divisor = int(input(\"Indique un numero que será el divisor, debe ser entero y positivo\"))\n",
    "\n",
    "rango = list(range(inicio, fin))\n",
    "lista_divisibles = []\n",
    "\n",
    "if inicio < fin:\n",
    "    for i in rango:\n",
    "        if i % divisor == 0:\n",
    "            lista_divisibles.append(i)\n",
    "    if len(lista_divisibles) ==0:\n",
    "        print(\"No existe ningún número divisible para el divisor indicado dentro del rango \")\n",
    "    else:\n",
    "        print(\"El número máximo divisible para el divisor indicado dentro de este rango es\", max(lista_divisibles))\n",
    "else:\n",
    "    print(\"El rango indicado no es correcto, el numero final tiene que ser mayor al inicial\")\n"
   ]
  },
  {
   "cell_type": "markdown",
   "metadata": {},
   "source": []
  }
 ],
 "metadata": {
  "kernelspec": {
   "display_name": "hackio",
   "language": "python",
   "name": "python3"
  },
  "language_info": {
   "codemirror_mode": {
    "name": "ipython",
    "version": 3
   },
   "file_extension": ".py",
   "mimetype": "text/x-python",
   "name": "python",
   "nbconvert_exporter": "python",
   "pygments_lexer": "ipython3",
   "version": "3.12.5"
  }
 },
 "nbformat": 4,
 "nbformat_minor": 2
}
