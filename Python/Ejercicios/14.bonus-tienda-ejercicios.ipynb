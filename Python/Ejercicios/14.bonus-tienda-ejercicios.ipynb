{
 "cells": [
  {
   "cell_type": "markdown",
   "metadata": {},
   "source": [
    "<div style=\"text-align: center;\">\n",
    "  <img src=\"https://github.com/Hack-io-Data/Imagenes/blob/main/01-LogosHackio/logo_celeste@4x.png?raw=true\" alt=\"esquema\" />\n",
    "</div>\n"
   ]
  },
  {
   "cell_type": "markdown",
   "metadata": {},
   "source": [
    "En este ejercicio, se te pedirá que escribas un programa en Python que utilice condicionales para determinar el monto final de una compra en una tienda en línea, después de aplicar un descuento. El programa debe hacer lo siguiente:\n",
    "\n",
    "1. Solicita al usuario que ingrese el precio original de un artículo.\n",
    "\n",
    "2. Pregunta al usuario si tiene un cupón de descuento (respuesta sí o no).\n",
    "\n",
    "3. Si el usuario responde que sí, solicita que ingrese el valor del cupón de descuento.\n",
    "\n",
    "4. Aplica el descuento al precio original del artículo, siempre y cuando el valor del cupón sea válido (es decir, mayor a cero). Por ejemplo, descuento de 15€. \n",
    "\n",
    "5. Muestra el precio final de la compra, teniendo en cuenta el descuento aplicado o sin él. \n",
    "\n",
    "6. Recuerda utilizar estructuras de control de flujo como if, elif y else para llevar a cabo estas acciones en tu programa de Python."
   ]
  },
  {
   "cell_type": "code",
   "execution_count": 44,
   "metadata": {},
   "outputs": [
    {
     "name": "stdout",
     "output_type": "stream",
     "text": [
      "La respuesta indicada no es correcta, por favor ingrese si o no\n"
     ]
    }
   ],
   "source": [
    "precio_original = float(input(\"Por favor, ingrese el precio del articulo en formato número entero o decimal positivo\"))\n",
    "cupon_descuento = input(\"Por favor, indique si el tiene un cupón de descuento: (Respuesta permitida si o no)\").lower()\n",
    "if cupon_descuento == \"si\":\n",
    "    valor_cupon_descuento = float(input('Por favor ingrese el valor del cupón'))\n",
    "    if valor_cupon_descuento < 0:\n",
    "        print(\"El valor del descuento introducido es incorrecto, por favor, ingrese números positvos\")\n",
    "    else:\n",
    "        if valor_cupon_descuento > precio_original:\n",
    "            precio_final_compra = 0\n",
    "        else:\n",
    "            precio_final_compra = precio_original - valor_cupon_descuento\n",
    "        print(f'El valor final del producto es {precio_final_compra} €')\n",
    "elif cupon_descuento == \"no\":\n",
    "    precio_final_compra = precio_original\n",
    "    print(f'El valor final del producto es {precio_final_compra} €')\n",
    "else:\n",
    "    print(f'La respuesta indicada no es correcta, por favor ingrese si o no')"
   ]
  },
  {
   "cell_type": "markdown",
   "metadata": {},
   "source": [
    "Modifica el programa anterior para que el usuario ingrese un porcentaje de descuento en lugar de un valor fijo (por ejemplo, 30%). Aplica el descuento en base al porcentaje ingresado."
   ]
  },
  {
   "cell_type": "code",
   "execution_count": 43,
   "metadata": {},
   "outputs": [
    {
     "name": "stdout",
     "output_type": "stream",
     "text": [
      "El valor del descuento introducido es incorrecto, por favor, ingrese números positvos\n"
     ]
    }
   ],
   "source": [
    "precio_original = float(input(\"Por favor, ingrese el precio del articulo en formato número entero o decimal positivo\"))\n",
    "cupon_descuento = input(\"Por favor, indique si el tiene un cupón de descuento: (Respuesta permitida si o no)\").lower()\n",
    "if cupon_descuento == \"si\":\n",
    "    valor_cupon_descuento = float(input('Por favor ingrese porcentaje de descuento, por ejemplo 30 (si el descuento es del 30%'))\n",
    "    if valor_cupon_descuento < 0:\n",
    "        print(\"El valor del descuento introducido es incorrecto, por favor, ingrese números positvos\")\n",
    "    else:\n",
    "        precio_final_compra = precio_original * (1-valor_cupon_descuento/100)\n",
    "        print(f'El valor final del producto es {precio_final_compra} €')\n",
    "elif cupon_descuento == \"no\":\n",
    "    precio_final_compra = precio_original\n",
    "    print(f'El valor final del producto es {precio_final_compra} €')\n",
    "else:\n",
    "    print(f'La respuesta indicada no es correcta, por favor ingrese si o no')"
   ]
  },
  {
   "cell_type": "markdown",
   "metadata": {},
   "source": [
    "Modifica el programa anterior agregando un límite al descuento, donde el descuento mínimo sea del 5% y el máximo del 50%. Si el usuario ingresa un porcentaje fuera de este rango, notifíquele y aplique el descuento mínimo o máximo según sea el caso."
   ]
  },
  {
   "cell_type": "code",
   "execution_count": 4,
   "metadata": {},
   "outputs": [
    {
     "name": "stdout",
     "output_type": "stream",
     "text": [
      "El valor del descuento introducido es superior al permitido, descuento aplicado 50%. El valor final del producto es 50.0 €\n"
     ]
    }
   ],
   "source": [
    "precio_original = float(input(\"Por favor, ingrese el precio del articulo en formato número entero o decimal positivo\"))\n",
    "cupon_descuento = input(\"Por favor, indique si el tiene un cupón de descuento: (Respuesta permitida si o no)\").lower()\n",
    "if cupon_descuento == \"si\":\n",
    "    valor_cupon_descuento = float(input('Por favor ingrese porcentaje de descuento entre el 5% y el 50%, por ejemplo 30 (si el descuento es del 30%'))\n",
    "    if valor_cupon_descuento < 5:\n",
    "        precio_final_compra = precio_original * (1-5/100)\n",
    "        print(f'El valor del descuento introducido es inferior al permitido, descuento aplicado 5%. El valor final del producto es {precio_final_compra} €')\n",
    "    elif 5 <= valor_cupon_descuento <= 50:\n",
    "        precio_final_compra = precio_original * (1-valor_cupon_descuento/100)\n",
    "        print(f'El valor final del producto es {precio_final_compra} €')\n",
    "    else:\n",
    "        precio_final_compra = precio_original * (1-50/100)\n",
    "        print(f'El valor del descuento introducido es superior al permitido, descuento aplicado 50%. El valor final del producto es {precio_final_compra} €')\n",
    "elif cupon_descuento == \"no\":\n",
    "    precio_final_compra = precio_original\n",
    "    print(f'El valor final del producto es {precio_final_compra} €')\n",
    "else:\n",
    "    print(f'La respuesta indicada no es correcta, por favor ingrese si o no')"
   ]
  },
  {
   "cell_type": "markdown",
   "metadata": {},
   "source": [
    "Crea un programa nuevo que permita al usuario ingresar varios artículos, cada uno con su precio original y cupón de descuento. Aplica los descuentos correspondientes a cada producto y muestra el monto total final de la compra."
   ]
  },
  {
   "cell_type": "code",
   "execution_count": 35,
   "metadata": {},
   "outputs": [
    {
     "name": "stdout",
     "output_type": "stream",
     "text": [
      "El importe total de la compra es 150\n"
     ]
    }
   ],
   "source": [
    "\n",
    "precio_compra_total= 0\n",
    "\n",
    "\n",
    "añadir_producto = (input(\"Si desea añadir un producto indique 'si', en caso contrario, indique 'no'\")).lower()\n",
    "\n",
    "while añadir_producto == \"si\":\n",
    "    precio=float(input(\"Por favor, añade el precio original del producto\"))\n",
    "    cupon=float(input(\"Por favor, añade el valor del cupón de descuento en números positivos\"))\n",
    "    precio_compra_total = precio_compra_total + precio - cupon\n",
    "    añadir_producto = input(\"Si desea añadir un producto indique 'si', en caso contrario, indique 'no'\").lower()\n",
    "precio_compra_total = precio_compra_total\n",
    "print(f'El importe total de la compra es {precio_compra_total} €')\n"
   ]
  },
  {
   "cell_type": "markdown",
   "metadata": {},
   "source": [
    "Crea un nuevo programa que permita aplicar descuentos por categorías. En este caso, nuestra tienda aplicará descuentos en función de la categoría (por ejemplo, electrónica, ropa, juguetes). Pregunta al usuario a que categoría pertenece su producto y aplica el descuento correspondiente a la categoría. Debes solicitar al usuario que ingrese la categoría del articulo y el precio para aplicarle el descuento. "
   ]
  },
  {
   "cell_type": "code",
   "execution_count": 42,
   "metadata": {},
   "outputs": [
    {
     "name": "stdout",
     "output_type": "stream",
     "text": [
      "Categoría de producto no permitida\n"
     ]
    }
   ],
   "source": [
    "categoría = input('Indique la categoría del producto. Los valores permitidos son \"electronica\", \"ropa\" o \"juguetes\"').lower()\n",
    "\n",
    "if categoría == \"electronica\":\n",
    "    precio_producto = float(input(\"Indique el precio del producto\"))\n",
    "    precio_final_producto = precio_producto*0.9\n",
    "    print(f'El importe final del producto es {precio_final_producto} €')\n",
    "elif categoría == \"ropa\":\n",
    "    precio_producto = float(input(\"Indique el precio del producto\"))\n",
    "    precio_final_producto = precio_producto*0.8\n",
    "    print(f'El importe final del producto es {precio_final_producto} €')\n",
    "elif categoría == \"juguetes\":\n",
    "    precio_producto = float(input(\"Indique el precio del producto\"))\n",
    "    precio_final_producto = precio_producto*0.7\n",
    "    print(f'El importe final del producto es {precio_final_producto} €')\n",
    "else:\n",
    "    print('Categoría de producto no permitida')\n",
    "    "
   ]
  },
  {
   "cell_type": "markdown",
   "metadata": {},
   "source": [
    "Crea un nuevo programa que aplique descuentos automáticos en función de la fecha actual. Aplica un descuento del 10% en compras realizadas entre lunes y viernes o un descuento del 15% en compras realizadas durante los fines de semana."
   ]
  },
  {
   "cell_type": "code",
   "execution_count": 55,
   "metadata": {},
   "outputs": [
    {
     "name": "stdout",
     "output_type": "stream",
     "text": [
      "El precio final de su producto es 90.0\n"
     ]
    }
   ],
   "source": [
    "from datetime import datetime\n",
    "dia_sem = datetime.today().weekday()\n",
    "precio_producto = float(input(\"Indique el precio del producto en números positivos\"))\n",
    "\n",
    "if dia_sem <=4:\n",
    "    precio_final_producto = precio_producto*0.9\n",
    "else:\n",
    "    precio_final_producto = precio_producto*0.85\n",
    "print(f'El precio final de su producto es {precio_final_producto} €')\n",
    "\n"
   ]
  },
  {
   "cell_type": "markdown",
   "metadata": {},
   "source": [
    "Crea un programa nuevo que implemente un sistema de membresía donde los usuarios registrados obtengan un descuento adicional del 5%. Solicita al usuario que ingrese su nombre de usuario y contraseña para verificar su membresía y aplique el descuento adicional si corresponde. \n",
    "\n",
    "📝 Nota: Para este ejercicio solo tendremos un usuario registrado. El usuario es `USUARIO` y la contraseña es  `USUARIO123`. \n"
   ]
  },
  {
   "cell_type": "code",
   "execution_count": 61,
   "metadata": {},
   "outputs": [
    {
     "name": "stdout",
     "output_type": "stream",
     "text": [
      "El precio final del producto es 95.0 €\n"
     ]
    }
   ],
   "source": [
    "precio = float(input('Ingrese el precio del producto'))\n",
    "descuento = float(input('Ingrese porcentaje de descuento, por ejemplo 30 (si el descuento es del 30%'))\n",
    "usuario =  input('Ingrese su usuario, si no dispone de usuario pulse intro')\n",
    "contraseña = input('Ingrese su contraseña, si no dispone de contraseña pulse intro')\n",
    "\n",
    "if usuario == \"USUARIO\" and contraseña ==\"USUARIO123\":\n",
    "    precio_final_producto = precio * (1-(descuento+5)/100)\n",
    "else:\n",
    "    precio_final_producto = precio * (1-(descuento)/100)\n",
    "print(f'El precio final del producto es {precio_final_producto} €')"
   ]
  },
  {
   "cell_type": "markdown",
   "metadata": {},
   "source": [
    "Crea un nuevo programa que ofrezca un descuento del 10% adicional si el usuario compra más de 5 artículos del mismo tipo. Debes verificar la cantidad de productos comprados y aplicar el descuento adicional si corresponde.\n"
   ]
  },
  {
   "cell_type": "code",
   "execution_count": 63,
   "metadata": {},
   "outputs": [
    {
     "name": "stdout",
     "output_type": "stream",
     "text": [
      "El precio final del producto es 54.0 €\n"
     ]
    }
   ],
   "source": [
    "precio_producto = 10\n",
    "cantidad_producto= 6\n",
    "\n",
    "if cantidad_producto <=5:\n",
    "    precio_final_producto = precio_producto*cantidad_producto\n",
    "else:\n",
    "    precio_final_producto = precio_producto*(0.9) * cantidad_producto\n",
    "print(f'El precio final del producto es {precio_final_producto} €')"
   ]
  },
  {
   "cell_type": "markdown",
   "metadata": {},
   "source": [
    "Crea un nuevo programa que ofrezca descuentos progresivos en función del volumen de compra. Aplica un descuento del 5% para compras entre 100€ y 200€, un descuento del 10% para compras entre 200€ y 500€ y un descuento del 15% para compras superiores a 500€."
   ]
  },
  {
   "cell_type": "code",
   "execution_count": 203,
   "metadata": {},
   "outputs": [
    {
     "name": "stdout",
     "output_type": "stream",
     "text": [
      "El precio final del producto es 850.0 €\n"
     ]
    }
   ],
   "source": [
    "importe_compra_total = 1000\n",
    "\n",
    "if importe_compra_total <= 100:\n",
    "    precio_final_producto = importe_compra_total\n",
    "elif 100 < importe_compra_total <= 200:\n",
    "    precio_final_producto = importe_compra_total * 0.95\n",
    "elif 200 < precio_final_producto <= 500:\n",
    "    precio_final_producto = importe_compra_total * 0.90\n",
    "else:\n",
    "   precio_final_producto = importe_compra_total * 0.85\n",
    "print(f'El precio final del producto es {precio_final_producto} €')"
   ]
  },
  {
   "cell_type": "markdown",
   "metadata": {},
   "source": [
    "Crea un nuevo programa  que ofrezca un descuento adicional del 3% si el usuario paga con tarjeta de crédito o débito. Solicita al usuario que ingrese el método de pago y el descuento original, por último aplica el descuento si corresponde."
   ]
  },
  {
   "cell_type": "code",
   "execution_count": 205,
   "metadata": {},
   "outputs": [
    {
     "name": "stdout",
     "output_type": "stream",
     "text": [
      "El precio final del producto es 93.0 €\n"
     ]
    }
   ],
   "source": [
    "precio = float(input('Ingrese el precio del producto'))\n",
    "descuento = float(input('Ingrese porcentaje de descuento, por ejemplo 30 (si el descuento es del 30%'))\n",
    "metodo_pago =  input('Ingrese el método de pago: efectivo o tarjeta').lower()\n",
    "\n",
    "if metodo_pago == \"tarjeta\":\n",
    "    precio_final_producto = precio * (1-(descuento+3)/100)\n",
    "else:\n",
    "    precio_final_producto = precio * (1-(descuento)/100)\n",
    "print(f'El precio final del producto es {precio_final_producto} €')"
   ]
  }
 ],
 "metadata": {
  "kernelspec": {
   "display_name": "hackio",
   "language": "python",
   "name": "python3"
  },
  "language_info": {
   "codemirror_mode": {
    "name": "ipython",
    "version": 3
   },
   "file_extension": ".py",
   "mimetype": "text/x-python",
   "name": "python",
   "nbconvert_exporter": "python",
   "pygments_lexer": "ipython3",
   "version": "3.12.5"
  }
 },
 "nbformat": 4,
 "nbformat_minor": 2
}
