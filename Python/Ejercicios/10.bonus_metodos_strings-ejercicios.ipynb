{
 "cells": [
  {
   "cell_type": "markdown",
   "metadata": {},
   "source": [
    "<div style=\"text-align: center;\">\n",
    "  <img src=\"https://github.com/Hack-io-Data/Imagenes/blob/main/01-LogosHackio/logo_celeste@4x.png?raw=true\" alt=\"esquema\" />\n",
    "</div>"
   ]
  },
  {
   "cell_type": "markdown",
   "metadata": {},
   "source": [
    "\n",
    "#### Genera un dicionario con los nombres, apellidos y empresas de la siguinete lista de correos. \n",
    "\n",
    "Te deberá quedar un diccionario parecido al que se muestra a continuación: \n",
    "\n",
    "![resultado](https://github.com/Hack-io-Data/Imagenes/blob/main/04-Prework/Python/diccionario-bonus-strings.png?raw=true)"
   ]
  },
  {
   "cell_type": "code",
   "execution_count": 32,
   "metadata": {},
   "outputs": [
    {
     "name": "stdout",
     "output_type": "stream",
     "text": [
      "{'Nombre': ['john', 'jane', 'jim', 'mary', 'bob', 'alice', 'tom', 'sally', 'jerry', 'beth', 'john', 'jane', 'jim', 'mary', 'bob'], 'Apellido': ['doe', 'doe', 'smith', 'jane', 'jones', 'smith', 'jones', 'jones', 'smith', 'jones', 'smith', 'doe', 'jones', 'smith', 'doe'], 'Empresa': ['tecnologiainnovadora', 'empresatecnologica', 'solucionesdigitales', 'tecnologiapionera', 'innovaciontecnologica', 'desarrollotecnologico', 'tecnologiadinamica', 'tecnologiamoderna', 'solucionestech', 'tecnologiavanguardista', 'tecnologiasavanzadas', 'empresadigital', 'tecnologiadinamica', 'innovaciondigital', 'solucionesinformaticas']}\n"
     ]
    }
   ],
   "source": [
    "a = \"\"\"john.doe@tecnologiainnovadora.com\n",
    "jane.doe@empresatecnologica.com\n",
    "jim.smith@solucionesdigitales.com\n",
    "mary.jane@tecnologiapionera.com\n",
    "bob.jones@innovaciontecnologica.com\n",
    "alice.smith@desarrollotecnologico.com\n",
    "tom.jones@tecnologiadinamica.com\n",
    "sally.jones@tecnologiamoderna.com\n",
    "jerry.smith@solucionestech.com\n",
    "beth.jones@tecnologiavanguardista.com\n",
    "john.smith@tecnologiasavanzadas.com\n",
    "jane.doe@empresadigital.com\n",
    "jim.jones@tecnologiadinamica.com\n",
    "mary.smith@innovaciondigital.com\n",
    "bob.doe@solucionesinformaticas.com\n",
    "\"\"\"\n",
    "a1 = a.replace(\"@\", \".\")\n",
    "# print(a1)\n",
    "a2 = a1.replace(\".com\", \"\")\n",
    "# print(a2)\n",
    "a3 = a2.split()\n",
    "# print(a3)\n",
    "a4 = []\n",
    "\n",
    "for i in a3:\n",
    "    a4.append(i.split(\".\"))\n",
    "# print(a4)\n",
    "\n",
    "lista_nombres=[]\n",
    "lista_apellidos=[]\n",
    "lista_empresas=[]\n",
    "\n",
    "for i in a4:\n",
    "    lista_nombres.append(i[0])\n",
    "    lista_apellidos.append(i[1])\n",
    "    lista_empresas.append(i[2])\n",
    "\n",
    "#print(lista_nombres)\n",
    "#print(lista_apellidos)\n",
    "#print(lista_empresas)\n",
    "\n",
    "diccionario = {'Nombre': lista_nombres,\n",
    "                'Apellido': lista_apellidos,\n",
    "                  'Empresa': lista_empresas}\n",
    "print(diccionario)\n",
    "\n"
   ]
  }
 ],
 "metadata": {
  "kernelspec": {
   "display_name": "hackio",
   "language": "python",
   "name": "python3"
  },
  "language_info": {
   "codemirror_mode": {
    "name": "ipython",
    "version": 3
   },
   "file_extension": ".py",
   "mimetype": "text/x-python",
   "name": "python",
   "nbconvert_exporter": "python",
   "pygments_lexer": "ipython3",
   "version": "3.12.5"
  }
 },
 "nbformat": 4,
 "nbformat_minor": 2
}
