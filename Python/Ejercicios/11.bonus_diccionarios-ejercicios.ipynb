{
 "cells": [
  {
   "cell_type": "markdown",
   "metadata": {},
   "source": [
    "<div style=\"text-align: center;\">\n",
    "  <img src=\"https://github.com/Hack-io-Data/Imagenes/blob/main/01-LogosHackio/logo_celeste@4x.png?raw=true\" alt=\"esquema\" />\n",
    "</div>"
   ]
  },
  {
   "cell_type": "markdown",
   "metadata": {},
   "source": [
    "\n",
    "\n",
    "En este ejercicios deberéis contestar a una serie de preguntas, usando los datos que os describimos a continuación. Los datos incluyen una lista de ciclistas, cada uno con los siguientes atributos:\n",
    "\n",
    "1. **Nombre**: Nombre del ciclista (por ejemplo, \"Juan\").\n",
    "\n",
    "2. **Apellido**: Apellido del ciclista (por ejemplo, \"Pérez\").\n",
    "\n",
    "3. **Fecha de Nacimiento**: Fecha de nacimiento en formato `YYYY-MM-DD` (por ejemplo, \"1990-05-15\").\n",
    "\n",
    "4. **Nacionalidad**: Nacionalidad del ciclista (por ejemplo, \"Español\").\n",
    "\n",
    "5. **Datos Biométricos**: Incluye atributos adicionales:\n",
    "\n",
    "   - **Edad**: Edad del ciclista (por ejemplo, 32 años).\n",
    "\n",
    "   - **Peso**: Peso en kilogramos (por ejemplo, 70 kg).\n",
    "\n",
    "   - **Altura**: Altura en centímetros (por ejemplo, 175 cm).\n",
    "\n",
    "      Ejemplo de un ciclista:\n",
    "      ```json\n",
    "      {\n",
    "        \"nombre\": \"Juan\",\n",
    "        \"apellido\": \"Pérez\",\n",
    "        \"fecha_nacimiento\": \"1990-05-15\",\n",
    "        \"nacionalidad\": \"Español\",\n",
    "        \"datos_biometricos\": {\n",
    "          \"edad\": 32,\n",
    "          \"peso_kg\": 70,\n",
    "          \"altura_cm\": 175\n",
    "        }\n",
    "      }\n",
    "      ```\n",
    "\n",
    "6. Los datos también incluyen una lista de localizaciones, cada una con los siguientes atributos:\n",
    "\n",
    "    - **Nombre**: Nombre de la localización (por ejemplo, \"París\").\n",
    "\n",
    "    - **Fecha**: Fecha en formato `DD/MM/YYYY` (por ejemplo, \"26/06/2022\").\n",
    "\n",
    "    - **Tipo**: Tipo de localización (por ejemplo, \"Inicio\", \"Etapa\").\n",
    "\n",
    "    - **Distancia**: Distancia en kilómetros desde el inicio (por ejemplo, \"0 km\").\n",
    "\n",
    "    - **Altitud**: Altitud en metros sobre el nivel del mar (por ejemplo, \"0 m\").\n",
    "\n",
    "      Ejemplo de una localización:\n",
    "      ```json\n",
    "      {\n",
    "        \"nombre\": \"París\",\n",
    "        \"fecha\": \"26/06/2022\",\n",
    "        \"tipo\": \"Inicio\",\n",
    "        \"distancia\": \"0 km\",\n",
    "        \"altitud\": \"0 m\"\n",
    "      }\n",
    "      ```\n",
    "\n",
    "\n",
    "\n",
    "\n",
    "```python\n",
    "response = {\n",
    "    'ciclistas': [\n",
    "              {'nombre': 'Juan', 'apellido': 'Pérez', 'fecha_nacimiento': '1990-05-15', 'nacionalidad': 'Español', 'datos_biometricos': {'edad': 32, 'peso_kg': 70, 'altura_cm': 175}},\n",
    "              {'nombre': 'Maria', 'apellido': 'García', 'fecha_nacimiento': '1985-08-20', 'nacionalidad': 'Mexicana', 'datos_biometricos': {'edad': 37, 'peso_kg': 65, 'altura_cm': 168}},\n",
    "              {'nombre': 'Luis', 'apellido': 'Hernández', 'fecha_nacimiento': '1995-02-10', 'nacionalidad': 'Español', 'datos_biometricos': {'edad': 27, 'peso_kg': 68, 'altura_cm': 180}},\n",
    "              {'nombre': 'Ana', 'apellido': 'González', 'fecha_nacimiento': '1992-07-25', 'nacionalidad': 'Español', 'datos_biometricos': {'edad': 32, 'peso_kg': 65, 'altura_cm': 165}},\n",
    "              {'nombre': 'José', 'apellido': 'Rodríguez', 'fecha_nacimiento': '1991-09-10', 'nacionalidad': 'Español', 'datos_biometricos': {'edad': 31, 'peso_kg': 75, 'altura_cm': 185}},\n",
    "              {'nombre': 'María', 'apellido': 'López', 'fecha_nacimiento': '1993-04-20', 'nacionalidad': 'Español', 'datos_biometricos': {'edad': 30, 'peso_kg': 60, 'altura_cm': 160}},\n",
    "              {'nombre': 'Juan', 'apellido': 'Sánchez', 'fecha_nacimiento': '1994-06-15', 'nacionalidad': 'Español', 'datos_biometricos': {'edad': 29, 'peso_kg': 70, 'altura_cm': 175}},\n",
    "              {'nombre': 'Alicia', 'apellido': 'García', 'fecha_nacimiento': '1996-08-20', 'nacionalidad': 'Mexicana', 'datos_biometricos': {'edad': 28, 'peso_kg': 65, 'altura_cm': 168}},\n",
    "              {'nombre': 'José', 'apellido': 'Hernández', 'fecha_nacimiento': '1997-02-10', 'nacionalidad': 'Español', 'datos_biometricos': {'edad': 27, 'peso_kg': 68, 'altura_cm': 180}},\n",
    "              {'nombre': 'María', 'apellido': 'López', 'fecha_nacimiento': '1998-04-20', 'nacionalidad': 'Español', 'datos_biometricos': {'edad': 26, 'peso_kg': 60, 'altura_cm': 160}}\n",
    "                ],\n",
    "    'localizaciones': [\n",
    "              {'nombre': 'París', 'fecha': '26/06/2022', 'tipo': 'Inicio', 'distancia': '0 km', 'altitud': '0 m'},\n",
    "              {'nombre': 'Roubaix', 'fecha': '27/06/2022', 'tipo': 'Etapa', 'distancia': '200 km', 'altitud': '100 m'},\n",
    "              {'nombre': 'Lille', 'fecha': '28/06/2022', 'tipo': 'Etapa', 'distancia': '180 km', 'altitud': '150 m'},\n",
    "              {'nombre': 'Reims', 'fecha': '29/06/2022', 'tipo': 'Etapa', 'distancia': '220 km', 'altitud': '200 m'},\n",
    "              {'nombre': 'Metz', 'fecha': '30/06/2022', 'tipo': 'Etapa', 'distancia': '250 km', 'altitud': '250 m'},\n",
    "              {'nombre': 'Strasbourg', 'fecha': '01/07/2022', 'tipo': 'Etapa', 'distancia': '280 km', 'altitud': '300 m'},\n",
    "              {'nombre': 'Mulhouse', 'fecha': '02/07/2022', 'tipo': 'Etapa', 'distancia': '300 km', 'altitud': '350 m'},\n",
    "              {'nombre': 'Lyon', 'fecha': '03/07/2022', 'tipo': 'Etapa', 'distancia': '350 km', 'altitud': '400 m'},\n",
    "              {'nombre': 'Grenoble', 'fecha': '04/07/2022', 'tipo': 'Etapa', 'distancia': '400 km', 'altitud': '450 m'},\n",
    "              {'nombre': 'Toulouse', 'fecha': '05/07/2022', 'tipo': 'Etapa', 'distancia': '450 km', 'altitud': '500 m'}\n",
    "                   ]\n",
    "}\n",
    "```\n"
   ]
  },
  {
   "cell_type": "code",
   "execution_count": 204,
   "metadata": {},
   "outputs": [],
   "source": [
    "response = {\n",
    "    'ciclistas': [\n",
    "              {'nombre': 'Juan', 'apellido': 'Pérez', 'fecha_nacimiento': '1920-05-15', 'nacionalidad': 'Español', 'datos_biometricos': {'edad': 32, 'peso_kg': 70, 'altura_cm': 175}},\n",
    "              {'nombre': 'Maria', 'apellido': 'García', 'fecha_nacimiento': '1985-08-20', 'nacionalidad': 'Mexicana', 'datos_biometricos': {'edad': 37, 'peso_kg': 65, 'altura_cm': 168}},\n",
    "              {'nombre': 'Luis', 'apellido': 'Hernández', 'fecha_nacimiento': '1995-02-10', 'nacionalidad': 'Español', 'datos_biometricos': {'edad': 27, 'peso_kg': 68, 'altura_cm': 180}},\n",
    "              {'nombre': 'Ana', 'apellido': 'González', 'fecha_nacimiento': '1992-07-25', 'nacionalidad': 'Español', 'datos_biometricos': {'edad': 32, 'peso_kg': 65, 'altura_cm': 165}},\n",
    "              {'nombre': 'José', 'apellido': 'Rodríguez', 'fecha_nacimiento': '1991-09-10', 'nacionalidad': 'Español', 'datos_biometricos': {'edad': 31, 'peso_kg': 75, 'altura_cm': 185}},\n",
    "              {'nombre': 'María', 'apellido': 'López', 'fecha_nacimiento': '1993-04-20', 'nacionalidad': 'Español', 'datos_biometricos': {'edad': 30, 'peso_kg': 60, 'altura_cm': 160}},\n",
    "              {'nombre': 'Juan', 'apellido': 'Sánchez', 'fecha_nacimiento': '1994-06-15', 'nacionalidad': 'Español', 'datos_biometricos': {'edad': 29, 'peso_kg': 70, 'altura_cm': 175}},\n",
    "              {'nombre': 'Alicia', 'apellido': 'García', 'fecha_nacimiento': '1996-08-20', 'nacionalidad': 'Mexicana', 'datos_biometricos': {'edad': 28, 'peso_kg': 65, 'altura_cm': 168}},\n",
    "              {'nombre': 'José', 'apellido': 'Hernández', 'fecha_nacimiento': '1997-02-10', 'nacionalidad': 'Español', 'datos_biometricos': {'edad': 27, 'peso_kg': 68, 'altura_cm': 180}},\n",
    "              {'nombre': 'María', 'apellido': 'López', 'fecha_nacimiento': '1998-04-20', 'nacionalidad': 'Español', 'datos_biometricos': {'edad': 26, 'peso_kg': 60, 'altura_cm': 160}}\n",
    "                ],\n",
    "    'localizaciones': [\n",
    "              {'nombre': 'París', 'fecha': '26/06/2022', 'tipo': 'Inicio', 'distancia': '0 km', 'altitud': '0 m'},\n",
    "              {'nombre': 'Roubaix', 'fecha': '27/06/2022', 'tipo': 'Etapa', 'distancia': '200 km', 'altitud': '100 m'},\n",
    "              {'nombre': 'Lille', 'fecha': '28/06/2022', 'tipo': 'Etapa', 'distancia': '180 km', 'altitud': '300 m'},\n",
    "              {'nombre': 'Reims', 'fecha': '29/06/2022', 'tipo': 'Etapa', 'distancia': '220 km', 'altitud': '200 m'},\n",
    "              {'nombre': 'Metz', 'fecha': '30/06/2022', 'tipo': 'Etapa', 'distancia': '250 km', 'altitud': '250 m'},\n",
    "              {'nombre': 'Strasbourg', 'fecha': '01/07/2022', 'tipo': 'Etapa', 'distancia': '280 km', 'altitud': '300 m'},\n",
    "              {'nombre': 'Mulhouse', 'fecha': '02/07/2022', 'tipo': 'Etapa', 'distancia': '300 km', 'altitud': '350 m'},\n",
    "              {'nombre': 'Lyon', 'fecha': '03/07/2022', 'tipo': 'Etapa', 'distancia': '350 km', 'altitud': '400 m'},\n",
    "              {'nombre': 'Grenoble', 'fecha': '04/07/2022', 'tipo': 'Etapa', 'distancia': '400 km', 'altitud': '450 m'},\n",
    "              {'nombre': 'Toulouse', 'fecha': '05/07/2022', 'tipo': 'Etapa', 'distancia': '450 km', 'altitud': '500 m'}\n",
    "                   ]\n",
    "}"
   ]
  },
  {
   "cell_type": "markdown",
   "metadata": {},
   "source": [
    "#### 1. ¿Qué tipo de estructura de datos es la variable `response` definida previamente?"
   ]
  },
  {
   "cell_type": "code",
   "execution_count": 2,
   "metadata": {},
   "outputs": [
    {
     "name": "stdout",
     "output_type": "stream",
     "text": [
      "La variables response es de tipo <class 'dict'>, es decir diccionario\n"
     ]
    }
   ],
   "source": [
    "print(f'La variables response es de tipo {type(response)}, es decir diccionario')\n"
   ]
  },
  {
   "cell_type": "markdown",
   "metadata": {
    "vscode": {
     "languageId": "plaintext"
    }
   },
   "source": [
    "#### 2. ¿Cuántos participantes hay en la varible `response`?"
   ]
  },
  {
   "cell_type": "code",
   "execution_count": 3,
   "metadata": {},
   "outputs": [
    {
     "name": "stdout",
     "output_type": "stream",
     "text": [
      "La variable response tiene 10 participantes\n"
     ]
    }
   ],
   "source": [
    "print(f'La variable response tiene {len(response['ciclistas'])} participantes')"
   ]
  },
  {
   "cell_type": "markdown",
   "metadata": {},
   "source": [
    "#### 3. ¿Cuál es la nacionalidad del primer ciclista?"
   ]
  },
  {
   "cell_type": "code",
   "execution_count": 4,
   "metadata": {},
   "outputs": [
    {
     "name": "stdout",
     "output_type": "stream",
     "text": [
      "La nacionalidad del primer ciclista es Español\n"
     ]
    }
   ],
   "source": [
    "print(f'La nacionalidad del primer ciclista es {response['ciclistas'][0]['nacionalidad']}')"
   ]
  },
  {
   "cell_type": "markdown",
   "metadata": {},
   "source": [
    "#### 4. ¿Cuál es la fecha de nacimiento del tercer ciclista?"
   ]
  },
  {
   "cell_type": "code",
   "execution_count": 5,
   "metadata": {},
   "outputs": [
    {
     "name": "stdout",
     "output_type": "stream",
     "text": [
      "La fecha de nacimiento del tercer ciclista es 1995-02-10\n"
     ]
    }
   ],
   "source": [
    "print(f'La fecha de nacimiento del tercer ciclista es {response['ciclistas'][2]['fecha_nacimiento']}')"
   ]
  },
  {
   "cell_type": "markdown",
   "metadata": {},
   "source": [
    "#### 5. ¿Cuál es el peso en kg del segundo ciclista?"
   ]
  },
  {
   "cell_type": "code",
   "execution_count": 6,
   "metadata": {},
   "outputs": [
    {
     "name": "stdout",
     "output_type": "stream",
     "text": [
      "El peso en kg del segundo ciclista es 65 kg\n"
     ]
    }
   ],
   "source": [
    "print(f'El peso en kg del segundo ciclista es {response['ciclistas'][1]['datos_biometricos']['peso_kg']} kg')"
   ]
  },
  {
   "cell_type": "markdown",
   "metadata": {},
   "source": [
    "#### 6. ¿Cuál es la altura en cm del último ciclista ?"
   ]
  },
  {
   "cell_type": "code",
   "execution_count": 7,
   "metadata": {},
   "outputs": [
    {
     "name": "stdout",
     "output_type": "stream",
     "text": [
      "La altura en cm del último ciclista es 160 cm\n"
     ]
    }
   ],
   "source": [
    "print(f'La altura en cm del último ciclista es {response['ciclistas'][-1]['datos_biometricos']['altura_cm']} cm')"
   ]
  },
  {
   "cell_type": "markdown",
   "metadata": {},
   "source": [
    "#### 7. Indica el nombre de los ciclistas que nacieron en el siglo XX. "
   ]
  },
  {
   "cell_type": "code",
   "execution_count": 208,
   "metadata": {},
   "outputs": [
    {
     "name": "stdout",
     "output_type": "stream",
     "text": [
      "El nombre de los ciclistas que nacieron en el siglo XX es ['Juan', 'Maria', 'Luis', 'Ana', 'José', 'María', 'Juan', 'Alicia', 'José', 'María']\n"
     ]
    }
   ],
   "source": [
    "ciclistas = response['ciclistas']\n",
    "nombre_ciclistas_sigloXX = []\n",
    "\n",
    "inicio_sigloXX = \"1901-01-01\"\n",
    "fin_sigloxx= \"2000-12-31\"\n",
    "\n",
    "for fecha in ciclistas:\n",
    "    #print((fecha['fecha_nacimiento']))\n",
    "    if inicio_sigloXX < (fecha['fecha_nacimiento']) < fin_sigloxx:\n",
    "        nombre_ciclistas_sigloXX.append(fecha['nombre'])\n",
    "           \n",
    "print(f'El nombre de los ciclistas que nacieron en el siglo XX es {nombre_ciclistas_sigloXX}')"
   ]
  },
  {
   "cell_type": "markdown",
   "metadata": {},
   "source": [
    "#### 8. ¿Cuál es el nombre completo del cuarto ciclista?"
   ]
  },
  {
   "cell_type": "code",
   "execution_count": 8,
   "metadata": {},
   "outputs": [
    {
     "name": "stdout",
     "output_type": "stream",
     "text": [
      "El nombre compledo del cuarto ciclista es Ana González\n"
     ]
    }
   ],
   "source": [
    "print(f'El nombre compledo del cuarto ciclista es {response['ciclistas'][3]['nombre']} {response['ciclistas'][3]['apellido']}')"
   ]
  },
  {
   "cell_type": "markdown",
   "metadata": {},
   "source": [
    "#### 9. Genera una lista con el nombre y apellido de cada ciclista. "
   ]
  },
  {
   "cell_type": "code",
   "execution_count": 210,
   "metadata": {},
   "outputs": [
    {
     "name": "stdout",
     "output_type": "stream",
     "text": [
      "{'nombres': ['Juan', 'Maria', 'Luis', 'Ana', 'José', 'María', 'Juan', 'Alicia', 'José', 'María'], 'apellidos': ['Pérez', 'García', 'Hernández', 'González', 'Rodríguez', 'López', 'Sánchez', 'García', 'Hernández', 'López']}\n"
     ]
    }
   ],
   "source": [
    "ciclistas = response['ciclistas']\n",
    "#print(ciclistas[0]['nombre'])\n",
    "#print(type(ciclistas[0]['nombre']))\n",
    "\n",
    "\n",
    "lista_nombres = []\n",
    "lista_apellidos = []\n",
    "\n",
    "for ciclista_ind in ciclistas:\n",
    "    #print([ciclista_ind])\n",
    "    lista_nombres.append(ciclista_ind['nombre']) \n",
    "    lista_apellidos.append(ciclista_ind['apellido'])\n",
    "\n",
    "dict_nombres_apellidos = {'nombres': lista_nombres, 'apellidos': lista_apellidos}\n",
    "print(dict_nombres_apellidos)\n",
    "\n",
    "# print(lista_nombres)\n",
    "# print(lista_apellidos)\n",
    "# print(lista_nombres_apellidos)"
   ]
  },
  {
   "cell_type": "markdown",
   "metadata": {},
   "source": [
    "#### 10. ¿Cuál es la edad del quinto ciclista?"
   ]
  },
  {
   "cell_type": "code",
   "execution_count": 37,
   "metadata": {},
   "outputs": [
    {
     "name": "stdout",
     "output_type": "stream",
     "text": [
      "La edad del quinto ciclista es 31 años\n"
     ]
    }
   ],
   "source": [
    "print(f'La edad del quinto ciclista es {response['ciclistas'][4]['datos_biometricos']['edad']} años')"
   ]
  },
  {
   "cell_type": "markdown",
   "metadata": {},
   "source": [
    "#### 11. ¿Cuál es el apellido del sexto ciclista?"
   ]
  },
  {
   "cell_type": "code",
   "execution_count": 38,
   "metadata": {},
   "outputs": [
    {
     "name": "stdout",
     "output_type": "stream",
     "text": [
      "El apellido del sexto ciclista es López\n"
     ]
    }
   ],
   "source": [
    "print(f'El apellido del sexto ciclista es {response['ciclistas'][5]['apellido']}')"
   ]
  },
  {
   "cell_type": "markdown",
   "metadata": {},
   "source": [
    "#### 12. ¿Cuál es la nacionalidad del último ciclista?"
   ]
  },
  {
   "cell_type": "code",
   "execution_count": 39,
   "metadata": {},
   "outputs": [
    {
     "name": "stdout",
     "output_type": "stream",
     "text": [
      "La nacionalidad del último ciclista es Español\n"
     ]
    }
   ],
   "source": [
    "print(f'La nacionalidad del último ciclista es {response['ciclistas'][-1]['nacionalidad']}')"
   ]
  },
  {
   "cell_type": "markdown",
   "metadata": {},
   "source": [
    "#### 13. ¿Cuál es la edad media de los ciclistas?"
   ]
  },
  {
   "cell_type": "code",
   "execution_count": 128,
   "metadata": {},
   "outputs": [
    {
     "name": "stdout",
     "output_type": "stream",
     "text": [
      "la edad media de los ciclistas es 29.9 años\n"
     ]
    }
   ],
   "source": [
    "suma_edades = 0\n",
    "for edad in ciclistas:\n",
    "    suma_edades += (edad['datos_biometricos']['edad']) \n",
    "edad_media = suma_edades/10\n",
    "\n",
    "print(f'la edad media de los ciclistas es {edad_media} años')\n",
    "      "
   ]
  },
  {
   "cell_type": "markdown",
   "metadata": {},
   "source": [
    "#### 14. ¿Cuántas localizaciones diferentes hay?"
   ]
  },
  {
   "cell_type": "code",
   "execution_count": 162,
   "metadata": {},
   "outputs": [
    {
     "name": "stdout",
     "output_type": "stream",
     "text": [
      "La variable response tiene 10 localizaciones diferentes\n"
     ]
    }
   ],
   "source": [
    "print(f'La variable response tiene {len(response['localizaciones'])} localizaciones diferentes')"
   ]
  },
  {
   "cell_type": "markdown",
   "metadata": {},
   "source": [
    "#### 15. ¿Cuál es el nombre de la primera localización?"
   ]
  },
  {
   "cell_type": "code",
   "execution_count": 163,
   "metadata": {},
   "outputs": [
    {
     "name": "stdout",
     "output_type": "stream",
     "text": [
      "El nombre de la primera localización es París\n"
     ]
    }
   ],
   "source": [
    "print(f'El nombre de la primera localización es {response['localizaciones'][0]['nombre']}')"
   ]
  },
  {
   "cell_type": "markdown",
   "metadata": {},
   "source": [
    "#### 16. ¿Cuál es la fecha de la segunda localización?"
   ]
  },
  {
   "cell_type": "code",
   "execution_count": 164,
   "metadata": {},
   "outputs": [
    {
     "name": "stdout",
     "output_type": "stream",
     "text": [
      "La fecha de la segunda localización es 27/06/2022\n"
     ]
    }
   ],
   "source": [
    "print(f'La fecha de la segunda localización es {response['localizaciones'][1]['fecha']}')"
   ]
  },
  {
   "cell_type": "markdown",
   "metadata": {},
   "source": [
    "#### 17. ¿Cuál es el tipo de la tercera localización?"
   ]
  },
  {
   "cell_type": "code",
   "execution_count": 165,
   "metadata": {},
   "outputs": [
    {
     "name": "stdout",
     "output_type": "stream",
     "text": [
      "El tipo de la tercera localización es Etapa\n"
     ]
    }
   ],
   "source": [
    "print(f'El tipo de la tercera localización es {response['localizaciones'][2]['tipo']}')"
   ]
  },
  {
   "cell_type": "markdown",
   "metadata": {},
   "source": [
    "#### 18. ¿Cuál es la distancia de la cuarta localización?"
   ]
  },
  {
   "cell_type": "code",
   "execution_count": 167,
   "metadata": {},
   "outputs": [
    {
     "name": "stdout",
     "output_type": "stream",
     "text": [
      "La distancia de la cuarta localización es 220 km\n"
     ]
    }
   ],
   "source": [
    "print(f'La distancia de la cuarta localización es {response['localizaciones'][3]['distancia']}')"
   ]
  },
  {
   "cell_type": "markdown",
   "metadata": {},
   "source": [
    "#### 19. ¿Cuál es la localización con mayor distancia?"
   ]
  },
  {
   "cell_type": "code",
   "execution_count": 186,
   "metadata": {},
   "outputs": [
    {
     "name": "stdout",
     "output_type": "stream",
     "text": [
      " La localización con una distancia mayor es Toulouse con una distancia de 450 km\n"
     ]
    }
   ],
   "source": [
    "localizaciones = response['localizaciones']\n",
    "\n",
    "localizacion_mayor_distancia = \"\"\n",
    "distancia_mayor = '0 km'\n",
    "\n",
    "for distancia in localizaciones:\n",
    "    #print(distancia['distancia'])\n",
    "    if (distancia['distancia']) > distancia_mayor:\n",
    "        distancia_mayor = distancia['distancia']\n",
    "        localizacion_mayor_distancia = distancia['nombre']\n",
    "print(f' La localización con una distancia mayor es {localizacion_mayor_distancia} con una distancia de {distancia_mayor}')\n"
   ]
  },
  {
   "cell_type": "markdown",
   "metadata": {},
   "source": [
    "#### 20. ¿Cuál es la altitud de la quinta localización?"
   ]
  },
  {
   "cell_type": "code",
   "execution_count": 211,
   "metadata": {},
   "outputs": [
    {
     "name": "stdout",
     "output_type": "stream",
     "text": [
      "La altitud de la quinta localización es 250 m\n"
     ]
    }
   ],
   "source": [
    "print(f'La altitud de la quinta localización es {response['localizaciones'][4]['altitud']}')"
   ]
  },
  {
   "cell_type": "markdown",
   "metadata": {},
   "source": [
    "#### 21. ¿Cuál es el nombre de la última localización?"
   ]
  },
  {
   "cell_type": "code",
   "execution_count": null,
   "metadata": {},
   "outputs": [],
   "source": [
    "print(f'La altitud de la quinta localización es {response['localizaciones'][4]['altitud']}')"
   ]
  },
  {
   "cell_type": "markdown",
   "metadata": {},
   "source": [
    "#### 22. ¿Cuál es la fecha de la penúltima localización?"
   ]
  },
  {
   "cell_type": "code",
   "execution_count": 212,
   "metadata": {},
   "outputs": [
    {
     "name": "stdout",
     "output_type": "stream",
     "text": [
      "El nombre de la última localización es Toulouse\n"
     ]
    }
   ],
   "source": [
    "print(f'El nombre de la última localización es {response['localizaciones'][-1]['nombre']}')"
   ]
  },
  {
   "cell_type": "markdown",
   "metadata": {},
   "source": [
    "#### 23. ¿Cuál es el tipo de la antepenúltima localización?"
   ]
  },
  {
   "cell_type": "code",
   "execution_count": 213,
   "metadata": {},
   "outputs": [
    {
     "name": "stdout",
     "output_type": "stream",
     "text": [
      "El tipo de la antepenúltima localización es Etapa\n"
     ]
    }
   ],
   "source": [
    "print(f'El tipo de la antepenúltima localización es {response['localizaciones'][-3]['tipo']}')"
   ]
  },
  {
   "cell_type": "markdown",
   "metadata": {},
   "source": [
    "#### 24. ¿Cuál es la distancia de la cuarta localización?\n"
   ]
  },
  {
   "cell_type": "code",
   "execution_count": 214,
   "metadata": {},
   "outputs": [
    {
     "name": "stdout",
     "output_type": "stream",
     "text": [
      "La distancia de la cuarta localización es 220 km\n"
     ]
    }
   ],
   "source": [
    "print(f'La distancia de la cuarta localización es {response['localizaciones'][3]['distancia']}')"
   ]
  }
 ],
 "metadata": {
  "kernelspec": {
   "display_name": "contenido",
   "language": "python",
   "name": "python3"
  },
  "language_info": {
   "codemirror_mode": {
    "name": "ipython",
    "version": 3
   },
   "file_extension": ".py",
   "mimetype": "text/x-python",
   "name": "python",
   "nbconvert_exporter": "python",
   "pygments_lexer": "ipython3",
   "version": "3.12.5"
  }
 },
 "nbformat": 4,
 "nbformat_minor": 2
}
