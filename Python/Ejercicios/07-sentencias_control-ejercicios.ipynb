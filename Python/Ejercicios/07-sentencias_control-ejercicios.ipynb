{
 "cells": [
  {
   "cell_type": "markdown",
   "metadata": {},
   "source": [
    "<div style=\"text-align: center;\">\n",
    "  <img src=\"https://github.com/Hack-io-Data/Imagenes/blob/main/01-LogosHackio/logo_celeste@4x.png?raw=true\" alt=\"logo hack(io)\" />\n",
    "</div>"
   ]
  },
  {
   "cell_type": "markdown",
   "metadata": {},
   "source": [
    "#### 1. Escribe un programa que determine si un número es par o impar.\n",
    "\n"
   ]
  },
  {
   "cell_type": "code",
   "execution_count": 15,
   "metadata": {},
   "outputs": [
    {
     "name": "stdout",
     "output_type": "stream",
     "text": [
      "El número 6 es par\n"
     ]
    }
   ],
   "source": [
    "numero = int(input(\"Introduce un numero positivo\"))\n",
    "\n",
    "if numero <= 0:\n",
    "    print(\"Número nó válido, tienes que introducir un número positivo\")\n",
    "elif numero % 2 != 0:\n",
    "    print(\"El número\", numero, \"es impar\")\n",
    "else:\n",
    "    print(\"El número\" , numero, \"es par\")"
   ]
  },
  {
   "cell_type": "markdown",
   "metadata": {},
   "source": [
    "#### 2. Genera un programa que nos diga si es de noche, de día o tarde según la hora proporcionada por el usuario."
   ]
  },
  {
   "cell_type": "code",
   "execution_count": 5,
   "metadata": {},
   "outputs": [
    {
     "name": "stdout",
     "output_type": "stream",
     "text": [
      "Es de noche\n"
     ]
    }
   ],
   "source": [
    "hora1 = (input(\"Por favor, ingrese la hora en formato 24 horas y HH:MM:SS\"))\n",
    "\n",
    "from datetime import datetime\n",
    "time_object = datetime.strptime(hora1, '%H:%M:%S' )\n",
    "# print(time_object) \n",
    "# print(type(time_object))\n",
    "\n",
    "hora_limite_noche = '06:00:00'\n",
    "hora_limite_noche1 = datetime.strptime(hora_limite_noche, '%H:%M:%S' )\n",
    "# print(hora_limite_noche1)\n",
    "\n",
    "hora_limite_dia = '12:00:00'\n",
    "hora_limite_dia1 = datetime.strptime(hora_limite_dia, '%H:%M:%S' )\n",
    "# print(hora_limite_dia1)\n",
    "\n",
    "hora_limite_tarde = '20:00:00'\n",
    "hora_limite_tarde1 = datetime.strptime(hora_limite_tarde, '%H:%M:%S' )\n",
    "# print(hora_limite_tarde1)\n",
    "\n",
    "if time_object < hora_limite_noche1 or time_object >= hora_limite_tarde1:\n",
    "    print(\"Es de noche\")\n",
    "elif time_object < hora_limite_dia1:\n",
    "    print(\"Es de dia\")\n",
    "else:\n",
    "    print(\"Es de tarde\")\n",
    "\n"
   ]
  },
  {
   "cell_type": "markdown",
   "metadata": {},
   "source": [
    "#### 3. Dado un nombre imprime un saludo personalizado."
   ]
  },
  {
   "cell_type": "code",
   "execution_count": 60,
   "metadata": {},
   "outputs": [
    {
     "name": "stdout",
     "output_type": "stream",
     "text": [
      "Hola Vanesa bienvenido al curso de Data Analytics, esto promete!\n"
     ]
    }
   ],
   "source": [
    "nombre = input(\"Escriba su nombre\")\n",
    "print(\"Hola\", nombre, \"bienvenido al curso de Data Analytics, esto promete!\")"
   ]
  },
  {
   "cell_type": "markdown",
   "metadata": {},
   "source": [
    "#### 4. Escribe un programa que determine qué calificación en texto tiene un alumno en base a su calificación numérica. Las reglas de calificación son: \n",
    "\n",
    "- 0 - 69 insuficiente\n",
    "\n",
    "- 70 - 79 bien\n",
    "\n",
    "- 80 - 89 muy bien\n",
    "\n",
    "- 90 - 100 excelente\n"
   ]
  },
  {
   "cell_type": "code",
   "execution_count": 70,
   "metadata": {},
   "outputs": [
    {
     "name": "stdout",
     "output_type": "stream",
     "text": [
      "Nota no válida, por favor, ingrese un número del 0 al 100\n"
     ]
    }
   ],
   "source": [
    "Nota_examen =int(input(\"Introduzca la nota de su examen\"))\n",
    "\n",
    "if 0 < Nota_examen <= 69:\n",
    "    print(\"La calificación obtenida es 'insuficiente'\")\n",
    "elif 69 < Nota_examen <= 79:\n",
    "    print(\"La califación obtenida es 'bien'\")\n",
    "elif 79 < Nota_examen <= 89:\n",
    "    print(\"La califación obtenida es 'muy bien'\")\n",
    "elif 89 < Nota_examen <= 100:\n",
    "    print(\"La califación obtenida es 'excelente'\")\n",
    "\n",
    "else:\n",
    "    print(\"Nota no válida, por favor, ingrese un número del 0 al 100\")\n",
    "\n"
   ]
  },
  {
   "cell_type": "markdown",
   "metadata": {},
   "source": [
    "#### 5. Escribe un programa que imprima el día de la semana, dado un número del 1 al 7.\n"
   ]
  },
  {
   "cell_type": "code",
   "execution_count": 77,
   "metadata": {},
   "outputs": [
    {
     "name": "stdout",
     "output_type": "stream",
     "text": [
      "El número de día indicado se corresponde con el Martes\n"
     ]
    }
   ],
   "source": [
    "dia_semana = int(input(\"Indique con números del 1 al 7 el día que desea conocer\"))\n",
    "\n",
    "if dia_semana == 1:\n",
    "    print(\"El número de día indicado se corresponde con el Lunes\")\n",
    "elif dia_semana == 2:\n",
    "    print(\"El número de día indicado se corresponde con el Martes\")\n",
    "elif dia_semana == 3:\n",
    "    print(\"El número de día indicado se corresponde con el Miércoles\")\n",
    "elif dia_semana == 4:\n",
    "    print(\"El número de día indicado se corresponde con el Jueves\")\n",
    "elif dia_semana == 5:\n",
    "    print(\"El número de día indicado se corresponde con el Viernes\")\n",
    "elif dia_semana == 6:\n",
    "    print(\"El número de día indicado se corresponde con el Sábado\")\n",
    "elif dia_semana == 7:\n",
    "    print(\"El número de día indicado se corresponde con el Domingo\")\n",
    "\n",
    "else:\n",
    "    print(\"El número indicado no se corresponde con ningún día de la semana\")\n"
   ]
  },
  {
   "cell_type": "markdown",
   "metadata": {},
   "source": [
    "#### 6. Escribe un programa que determine si un número es positivo, negativo o cero."
   ]
  },
  {
   "cell_type": "code",
   "execution_count": 88,
   "metadata": {},
   "outputs": [
    {
     "name": "stdout",
     "output_type": "stream",
     "text": [
      "El número indicado es un cero\n"
     ]
    }
   ],
   "source": [
    "categoria_num = float(input(\"Por favor, introduzca un número para determinar su categoría. NOTA: Para indicar números con decimales, por favor, separarlo con punto\"))\n",
    "\n",
    "if categoria_num == 0:\n",
    "    print('El número indicado es un cero')\n",
    "elif categoria_num < 0:\n",
    "    print('El número indicado es negativo')\n",
    "else:\n",
    "    print('El número indicado es positivo')"
   ]
  },
  {
   "cell_type": "markdown",
   "metadata": {},
   "source": [
    "#### 7. Escribe un programa que determine si una persona puede conducir o no. La edad mínima para conducir es 18 años. \n"
   ]
  },
  {
   "cell_type": "code",
   "execution_count": 91,
   "metadata": {},
   "outputs": [
    {
     "name": "stdout",
     "output_type": "stream",
     "text": [
      "Según su edad, usted puede conducir\n"
     ]
    }
   ],
   "source": [
    "edad_actual = int(input(\"Por favor, indique su edad\"))\n",
    "\n",
    "if 0< edad_actual < 18:\n",
    "    print(\"Todavía no tiene la edad suficiente para conducir\")\n",
    "elif edad_actual >= 18: \n",
    "    print(\"Según su edad, usted puede conducir\")\n",
    "else:\n",
    "    print(\"La edad indicada es incorrecta, por favor, ingrese un número válido\")\n",
    "\n"
   ]
  },
  {
   "cell_type": "markdown",
   "metadata": {},
   "source": [
    "#### 8. Escribe un programa que determine si un estudiante aprobó o suspendió un examen."
   ]
  },
  {
   "cell_type": "code",
   "execution_count": 100,
   "metadata": {},
   "outputs": [
    {
     "name": "stdout",
     "output_type": "stream",
     "text": [
      "La nota indicada no es correcta, indique una nota válida\n"
     ]
    }
   ],
   "source": [
    "nota_examen1 = float(input(\"Ingrese su nota numérica, si tiene decimales separelo con un punto\"))\n",
    "\n",
    "if 0 <= nota_examen1 < 5:\n",
    "    print(\"Usted ha suspendido\")\n",
    "elif 5 <= nota_examen1 <=10:\n",
    "    print(\"Usted ha aprobado\")\n",
    "else: \n",
    "    print(\"La nota indicada no es correcta, indique una nota válida\")\n",
    "    "
   ]
  },
  {
   "cell_type": "markdown",
   "metadata": {},
   "source": [
    "#### 9. Escribe un programa que determine si un número es múltiplo de 3 y 5.\n"
   ]
  },
  {
   "cell_type": "code",
   "execution_count": 109,
   "metadata": {},
   "outputs": [
    {
     "name": "stdout",
     "output_type": "stream",
     "text": [
      "El número indicado es múltiplo de 3 y de 5\n"
     ]
    }
   ],
   "source": [
    "numero_multiplo = int(input(\"Por favor indique un número entero positivo\"))\n",
    "\n",
    "if numero_multiplo %3 == 0 and numero_multiplo%5 == 0:\n",
    "    print(\"El número indicado es múltiplo de 3 y de 5\")\n",
    "else:\n",
    "    print(\"El número indicado no es múltiplo de 3 y de 5 al mismo tiempo\")"
   ]
  },
  {
   "cell_type": "markdown",
   "metadata": {},
   "source": [
    "#### 10. Escribe un programa que determine si un número es par o impar.\n"
   ]
  },
  {
   "cell_type": "code",
   "execution_count": 16,
   "metadata": {},
   "outputs": [
    {
     "name": "stdout",
     "output_type": "stream",
     "text": [
      "El número 10 es par\n"
     ]
    }
   ],
   "source": [
    "numero1 = int(input(\"Introduce un numero positivo\"))\n",
    "\n",
    "if numero1 <= 0:\n",
    "    print(\"Número nó válido, tienes que introducir un número positivo\")\n",
    "elif numero1 % 2 != 0:\n",
    "    print(\"El número\", numero1, \"es impar\")\n",
    "else:\n",
    "    print(\"El número\" , numero1, \"es par\")"
   ]
  }
 ],
 "metadata": {
  "kernelspec": {
   "display_name": "hackio",
   "language": "python",
   "name": "python3"
  },
  "language_info": {
   "codemirror_mode": {
    "name": "ipython",
    "version": 3
   },
   "file_extension": ".py",
   "mimetype": "text/x-python",
   "name": "python",
   "nbconvert_exporter": "python",
   "pygments_lexer": "ipython3",
   "version": "3.12.5"
  }
 },
 "nbformat": 4,
 "nbformat_minor": 2
}
