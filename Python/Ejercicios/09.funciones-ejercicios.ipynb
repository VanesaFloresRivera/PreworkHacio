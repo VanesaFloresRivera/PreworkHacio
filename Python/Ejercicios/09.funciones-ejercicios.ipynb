{
 "cells": [
  {
   "cell_type": "markdown",
   "metadata": {},
   "source": [
    "\n",
    "<div style=\"text-align: center;\">\n",
    "  <img src=\"https://github.com/Hack-io-Data/Imagenes/blob/main/01-LogosHackio/logo_celeste@4x.png?raw=true\" alt=\"esquema\" />\n",
    "</div>"
   ]
  },
  {
   "cell_type": "markdown",
   "metadata": {},
   "source": [
    "#### 1. Escribe una función sin parámetros que imprima el siguiente mensaje \"¡Hola! Bienvenido.\"\n"
   ]
  },
  {
   "cell_type": "code",
   "execution_count": 2,
   "metadata": {},
   "outputs": [
    {
     "name": "stdout",
     "output_type": "stream",
     "text": [
      "¡Hola! Bienvenido.\n"
     ]
    }
   ],
   "source": [
    "def saludar():\n",
    "\n",
    "    \"\"\"función sin parámetros que devuelve el saludo predeterminado \"¡Hola! Bienvenido.\"\n",
    "    \"\"\"\n",
    "    print(\"¡Hola! Bienvenido.\")\n",
    "\n",
    "saludar()"
   ]
  },
  {
   "cell_type": "markdown",
   "metadata": {},
   "source": [
    "#### 2. Escribe una función que reciba dos parámetros y devuelva la suma de ambos.\n"
   ]
  },
  {
   "cell_type": "code",
   "execution_count": 14,
   "metadata": {},
   "outputs": [
    {
     "name": "stdout",
     "output_type": "stream",
     "text": [
      "La suma de 15 y 20 es:\n"
     ]
    },
    {
     "data": {
      "text/plain": [
       "35"
      ]
     },
     "execution_count": 14,
     "metadata": {},
     "output_type": "execute_result"
    }
   ],
   "source": [
    "def suma (num1, num2):\n",
    "    \"\"\"función con dos parámetros que devuelve la suma de los argumentos dados\n",
    "\n",
    "    Args:\n",
    "        num1 (int o float): primer número a sumar\n",
    "        num2 (int o float): segundo número a sumar\n",
    "\n",
    "    Returns:\n",
    "        int o float: suma de num1 + num2\n",
    "    \"\"\"\n",
    "    suma_final = num1 + num2\n",
    "    print(f'La suma de {num1} y {num2} es:')\n",
    "    return suma_final\n",
    "    \n",
    "\n",
    "suma(15, 20)"
   ]
  },
  {
   "cell_type": "markdown",
   "metadata": {},
   "source": [
    "#### 3. Escribe una función que reciba un número y devuelva True si es par, False si no lo es."
   ]
  },
  {
   "cell_type": "code",
   "execution_count": 34,
   "metadata": {},
   "outputs": [
    {
     "name": "stdout",
     "output_type": "stream",
     "text": [
      "¿El número indicado es par? True\n"
     ]
    }
   ],
   "source": [
    "def par_impar (n):\n",
    "    \"\"\"función con solo un parámetro de tipo entero que, para el número dado como argumento, devuelve si el número es par o impar\n",
    "\n",
    "    Args:\n",
    "        n (int): número para el que se quiera ejecutar la función\n",
    "\n",
    "    Returns:\n",
    "        buleano: devuelve 'True' si el número es par y 'False\" si el número es impar\n",
    "    \"\"\"\n",
    "    par = True\n",
    "    impar = False\n",
    "\n",
    "    if n % 2 ==0:\n",
    "        print(f'¿El número indicado es par? {par}')\n",
    "    else:\n",
    "        print(f'¿El número indicado es par? {impar}')\n",
    "    \n",
    "    \n",
    "    \n",
    "par_impar(20)"
   ]
  },
  {
   "cell_type": "markdown",
   "metadata": {},
   "source": [
    "#### 4. Escribe un función que devuelva un saludo personalizado a una persona dado su nombre. \n"
   ]
  },
  {
   "cell_type": "code",
   "execution_count": 11,
   "metadata": {},
   "outputs": [
    {
     "name": "stdout",
     "output_type": "stream",
     "text": [
      "Hola Vanesa gracias por asistir\n"
     ]
    }
   ],
   "source": [
    "def saludo(nom):\n",
    "    \"\"\"función con solo un parámetro que devuelve el saludo personalizado , \"\"Hola XXXXX gracias por asistir\" para una persona según el nombre introducido como argumento\n",
    "\n",
    "    Args:\n",
    "        nom (string): nombre de la persona a la que va dirigido el saludo\n",
    "    \"\"\"\n",
    "    print(\"Hola\", nom, \"gracias por asistir\")\n",
    "\n",
    "saludo(\"Vanesa\")\n",
    "    "
   ]
  },
  {
   "cell_type": "markdown",
   "metadata": {},
   "source": [
    "#### 5. Escribe una función que sume todos los números que reciba como argumento. La función debe recibir una cantidad variable de argumentos y devolver la suma de todos ellos."
   ]
  },
  {
   "cell_type": "code",
   "execution_count": 85,
   "metadata": {},
   "outputs": [
    {
     "name": "stdout",
     "output_type": "stream",
     "text": [
      "La suma de todos los números indicados es 21\n"
     ]
    }
   ],
   "source": [
    "def suma_arg (*args):\n",
    "\n",
    "    \"\"\"función con n parámetros que devuelve la suma de todos los argumentos indicados. Los valores a introducir tienen que ser de tipo int o float y \n",
    "    se tienen que introducir separados por una coma\n",
    "\n",
    "    Returns:\n",
    "        int: suma de todos los argumentos introducidos\n",
    "    \"\"\"\n",
    "\n",
    "    return print(\"La suma de todos los números indicados es\", sum(args))\n",
    "\n",
    "suma_arg(1,5,6,9)\n",
    "    \n",
    "\n"
   ]
  },
  {
   "cell_type": "markdown",
   "metadata": {},
   "source": [
    "#### 6. Escribe una función que cuente las letras de una palabra y devuelva un diccionario con la cantidad de veces que se repite cada letra \n"
   ]
  },
  {
   "cell_type": "code",
   "execution_count": 57,
   "metadata": {},
   "outputs": [
    {
     "name": "stdout",
     "output_type": "stream",
     "text": [
      "La palabra indicada tiene 27 letras\n",
      "Cada letra aparece los siguientes numeros de veces {'m': 2, 'e': 2, 'h': 1, 'a': 3, 'c': 1, 'o': 3, 's': 2, 't': 1, 'd': 2, 'l': 1, 'á': 1, 'g': 1, 'r': 1, 'n': 1}\n"
     ]
    }
   ],
   "source": [
    "dict_num_letras_vacio = {}\n",
    "\n",
    "\n",
    "def dic_num_letras1 (palabra):\n",
    "    \"\"\"cuenta el número de letras del argumento introducido y devuelve un diccionario con la cantidad de veces que se repite cada letra\n",
    "\n",
    "    Args:\n",
    "        palabra (string): palabra o frase que el usuario desee\n",
    "\n",
    "    Return: \n",
    "        dict: diccionario con clave = letra y valor = número de veces que aparece cada letra en el argumento dado\n",
    "    \"\"\"\n",
    "    print(\"La palabra indicada tiene\", len(palabra), \"letras\")\n",
    "    for letra in palabra:\n",
    "        if letra != \" \":\n",
    "            dict_num_letras_vacio.update({letra: palabra.count(letra)})\n",
    "    print(\"Cada letra aparece los siguientes numeros de veces\", dict_num_letras_vacio)\n",
    "        \n",
    "dic_num_letras1(\"me ha costado lo más grande\")"
   ]
  },
  {
   "cell_type": "markdown",
   "metadata": {},
   "source": [
    "#### 7. Escribe un función recursiva para calcular el factorial de un número entero no negativo."
   ]
  },
  {
   "cell_type": "code",
   "execution_count": 56,
   "metadata": {},
   "outputs": [
    {
     "name": "stdout",
     "output_type": "stream",
     "text": [
      "3628800\n"
     ]
    }
   ],
   "source": [
    "def factorial (n):\n",
    "    \"\"\"función con solo un parámetro que calcula el factorial de un número entero no negativo\n",
    "\n",
    "    Args:\n",
    "        n (int): número entero positivo del que se quiere calcular el factorial\n",
    "\n",
    "    Returns:\n",
    "        int: multiplicación de todos los numeros menores incluyendo el indicado\n",
    "    \"\"\"\n",
    "    if n == 0:\n",
    "        return 1\n",
    "    else:\n",
    "        return n * factorial(n-1)\n",
    "\n",
    "print(factorial(10))"
   ]
  },
  {
   "cell_type": "markdown",
   "metadata": {},
   "source": [
    "#### 8. Escribe una función que tome dos parámetros: `figura` (una cadena que puede ser `\"rectangulo\"`, `\"circulo\"` o `\"triangulo\"`) y `datos` (una tupla con los datos necesarios para calcular el área de la figura). "
   ]
  },
  {
   "cell_type": "code",
   "execution_count": 2,
   "metadata": {},
   "outputs": [
    {
     "name": "stdout",
     "output_type": "stream",
     "text": [
      "El área del rectangulo es 50\n"
     ]
    }
   ],
   "source": [
    "import math\n",
    "# print(math.pi)\n",
    "\n",
    "def figura_datos (figura, datos):\n",
    "    \"\"\"función con 2 parámetros que calcula el área de la figura introducida en el parámetro 1 y los datos necesarios para su cálculo\n",
    "\n",
    "    Args:\n",
    "        figura (string): Ingresar el tipo de figura sobre la cual se quiere calcular el área. Valores posibles \"rectangulo\", \"circulo\" o \"triangulo\". \n",
    "        datos (tuple): Los valores a ingresar serán los siguientes según la figura introducida: (Nota: todos los parámetros serán de tipo int o float)\n",
    "                - rectangulo o triangulo: (base, altura) \n",
    "                - circulo: (radio) Nota\n",
    "\n",
    "    Return:\n",
    "        int o float: area de la figura seleccionada\n",
    "                   \"\"\"\n",
    "    if figura == \"rectangulo\":\n",
    "        area_figura = datos[0] * datos[1]\n",
    "    elif figura == \"circulo\":\n",
    "        area_figura = math.pi * (datos**2)\n",
    "    elif figura == \"triangulo\":\n",
    "        area_figura = (datos[0] * datos[1])/2\n",
    "    else:\n",
    "        print(\"La figura indicada no es correcta\")\n",
    "    print(f'El área del {figura} es {area_figura}')\n",
    "\n",
    "\n",
    "figura_datos(\"rectangulo\", (10,5))"
   ]
  },
  {
   "cell_type": "markdown",
   "metadata": {},
   "source": [
    "#### 9. Escribe una función que tome una lista de números como parámetro y devuelva el número más grande de la lista. No utilices la función `max()` de Python en tu solución."
   ]
  },
  {
   "cell_type": "code",
   "execution_count": 107,
   "metadata": {},
   "outputs": [
    {
     "name": "stdout",
     "output_type": "stream",
     "text": [
      "El número mayor de la lista es 80\n"
     ]
    }
   ],
   "source": [
    "def numero (lista_numeros):\n",
    "    \"\"\" función con un parámetro de tipo lista con números enteros que devuelve el número más grande de la lista\n",
    "\n",
    "    Args:\n",
    "        lista_numeros (list): lista de números que el usuario desee, se tiene que incluir entre corchetes y separando cada número por una coma\n",
    "\n",
    "    Return:\n",
    "        número entero mayor de la lista\n",
    "    \"\"\"\n",
    "    lista_numeros.sort(reverse = True)\n",
    "    print(\"El número mayor de la lista es\", lista_numeros[0])\n",
    "\n",
    "numero([10, 20, 80, 25, 1])"
   ]
  },
  {
   "cell_type": "markdown",
   "metadata": {},
   "source": [
    "#### 10. Escribe una función que tome una cadena como parámetro un texto y devuelva `True` si la cadena es un palíndromo (se lee igual de izquierda a derecha que de derecha a izquierda), y `False` en caso contrario. Ignora los espacios y considera mayúsculas y minúsculas de manera insensible.\n"
   ]
  },
  {
   "cell_type": "code",
   "execution_count": 4,
   "metadata": {},
   "outputs": [
    {
     "name": "stdout",
     "output_type": "stream",
     "text": [
      "¿El texto indicado es palíndromo? False\n"
     ]
    }
   ],
   "source": [
    "def texto_palindromo1 (cadena_texto):\n",
    "    \"\"\"función con un solo parámetro, de tipo string, que indica si el atributo indicado es palindromo (se lee igual de derecha a izquierda que de izquierda a derecha)\n",
    "\n",
    "    Args:\n",
    "        cadena_texto (string): frase o palabra que el usuario quiera añadir, se debe introducir entre \"\"\n",
    "\n",
    "    Return:\n",
    "        bouleano: devuelve \"True\" si el argumento es bouleano y \"False\" si no lo es\n",
    "    \"\"\"\n",
    "    palindromo = True\n",
    "    for i in range (len(cadena_texto) // 2):\n",
    "        if cadena_texto[i] != cadena_texto[-i-1]:\n",
    "            palindromo = False\n",
    "    print(f'¿El texto indicado es palíndromo? {palindromo}')\n",
    "\n",
    "texto_palindromo1(\"ojo rojo\")"
   ]
  },
  {
   "cell_type": "markdown",
   "metadata": {},
   "source": [
    "#### 11. Escribe una función que tome una cadena como parámetro y devuelva dos valores: la cantidad de vocales y la cantidad de consonantes presentes en la cadena. Ignora los espacios y considera mayúsculas y minúsculas de manera insensible.\n"
   ]
  },
  {
   "cell_type": "code",
   "execution_count": 5,
   "metadata": {},
   "outputs": [
    {
     "name": "stdout",
     "output_type": "stream",
     "text": [
      "El texto tiene 8 vocales y 10 consonantes\n"
     ]
    }
   ],
   "source": [
    "\n",
    "\n",
    "def vocales_consonante(frase):\n",
    "    \"\"\"función con solo un parámetro de tipo string que devuelve la cantidad de vocales y la cantidad de consonantes presentes en el argumento indicado\n",
    "\n",
    "    Args:\n",
    "        frase (string): frase que el usuario desee\n",
    "    \n",
    "    Returns:\n",
    "        cantidad de vocales que tiene el argumento\n",
    "        cantidad de consonantes que tiene el argumento\n",
    "    \"\"\"\n",
    "    suma_vocales = 0\n",
    "    suma_consonantes = 0\n",
    "    frase_minus = frase.lower()\n",
    "    for i in frase_minus:\n",
    "        if i == \"a\" or i == \"e\" or i == \"i\" or i == \"o\" or i == \"u\":\n",
    "            suma_vocales += 1\n",
    "        elif i == \" \":\n",
    "            suma_vocales += 0\n",
    "        else:\n",
    "            suma_consonantes +=1\n",
    "    print(f'El texto tiene {suma_vocales} vocales y {suma_consonantes} consonantes')\n",
    "    \n",
    "            \n",
    "vocales_consonante(\"rocio navarro flores\")"
   ]
  }
 ],
 "metadata": {
  "kernelspec": {
   "display_name": "hackio",
   "language": "python",
   "name": "python3"
  },
  "language_info": {
   "codemirror_mode": {
    "name": "ipython",
    "version": 3
   },
   "file_extension": ".py",
   "mimetype": "text/x-python",
   "name": "python",
   "nbconvert_exporter": "python",
   "pygments_lexer": "ipython3",
   "version": "3.12.5"
  }
 },
 "nbformat": 4,
 "nbformat_minor": 2
}
