{
 "cells": [
  {
   "cell_type": "markdown",
   "metadata": {},
   "source": [
    "<div style=\"text-align: center;\">\n",
    "  <img src=\"https://github.com/Hack-io-Data/Imagenes/blob/main/01-LogosHackio/logo_celeste@4x.png?raw=true\" alt=\"esquema\" />\n",
    "</div>\n"
   ]
  },
  {
   "cell_type": "markdown",
   "metadata": {},
   "source": [
    "# Comprobación de calidad de contraseñas\n",
    "\n",
    "En este ejercicio, tendrás que generar un programa que sea capaz de comprobar la calidad de contraseñas. La seguridad de nuestras contraseñas es fundamental para proteger nuestra información personal y evitar posibles ataques cibernéticos. Para ello, vamos a crear una función llamada `verificar_seguridad_contrasena` que evaluará la calidad de una contraseña. Esta función tomará como argumento la contraseña a evaluar y devolverá si la contraseña es segura o no basado en los siguientes criterios:\n",
    "\n",
    "1. La contraseña deberá tener al menos 8 caracteres.\n",
    "\n",
    "2. La contraseña deberá tener al menos una letra mayúscula.\n",
    "\n",
    "3. La contraseña deberá tener al menos una letra minúscula. \n",
    "\n",
    "4. La contraseña deberá tener al menos un número. \n",
    "\n",
    "5. La contraseña deberá tener al menos un caracter especial. \n",
    "\n",
    "6. La contraseña no deberá tener espacios en blanco. \n",
    "\n",
    "7. La contraseña no deberá tener caracteres repetidos. \n"
   ]
  },
  {
   "cell_type": "code",
   "execution_count": 30,
   "metadata": {},
   "outputs": [],
   "source": [
    "\n",
    "def verificar_seguridad_contraseña(contraseña):\n",
    "    # print(contraseña)\n",
    "    contraseña_min= contraseña.lower()\n",
    "    lista_letras_contraseña = []\n",
    "    #print(lista_letras_contraseña)\n",
    "    contraseña_valida = 'si'\n",
    "    #print(contraseña_valida)\n",
    "\n",
    "    for i in contraseña_min:\n",
    "        if i not in lista_letras_contraseña:\n",
    "            lista_letras_contraseña.append(i)\n",
    "            contraseña_valida = \"si\"\n",
    "            # print(contraseña_valida)\n",
    "        else: \n",
    "            contraseña_valida = \"no\"\n",
    "            #print('Contraseña no válida')\n",
    "            #print(lista_letras_contraseña)\n",
    "            break\n",
    "    while contraseña_valida == 'si':\n",
    "        if contraseña.isupper() == True or contraseña.islower() == True or contraseña.isalpha() == True or contraseña.isnumeric() == True or contraseña.isalnum() == True:\n",
    "            contraseña_valida = \"no\"\n",
    "            break\n",
    "        else:\n",
    "             contraseña_valida = \"si\"\n",
    "        if (len(contraseña))>=8:\n",
    "            # print(len(contraseña))\n",
    "            contraseña_valida = \"si\"\n",
    "        else:\n",
    "            # print(len(contraseña))\n",
    "            contraseña_valida = \"no\"\n",
    "            break\n",
    "        if contraseña.find(' ',0, len(contraseña)+1) == -1:\n",
    "            contraseña_valida = \"si\"\n",
    "        else:\n",
    "            contraseña_valida = \"no\"\n",
    "        break\n",
    "        \n",
    "           \n",
    "    print(f'La contraseña indicada {contraseña_valida.upper()} es segura')\n",
    "\n"
   ]
  },
  {
   "cell_type": "code",
   "execution_count": 32,
   "metadata": {},
   "outputs": [
    {
     "name": "stdout",
     "output_type": "stream",
     "text": [
      "La contraseña indicada SI es segura\n"
     ]
    }
   ],
   "source": [
    "verificar_seguridad_contraseña('Vaneso@9')"
   ]
  }
 ],
 "metadata": {
  "kernelspec": {
   "display_name": "hackio",
   "language": "python",
   "name": "python3"
  },
  "language_info": {
   "codemirror_mode": {
    "name": "ipython",
    "version": 3
   },
   "file_extension": ".py",
   "mimetype": "text/x-python",
   "name": "python",
   "nbconvert_exporter": "python",
   "pygments_lexer": "ipython3",
   "version": "3.12.5"
  }
 },
 "nbformat": 4,
 "nbformat_minor": 2
}
